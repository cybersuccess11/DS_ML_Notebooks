{
 "cells": [
  {
   "cell_type": "code",
   "execution_count": 3,
   "id": "6dd191d2",
   "metadata": {},
   "outputs": [],
   "source": [
    "l = [1, 2]"
   ]
  },
  {
   "cell_type": "code",
   "execution_count": 4,
   "id": "5fc48e44",
   "metadata": {},
   "outputs": [
    {
     "data": {
      "text/plain": [
       "2653203718272"
      ]
     },
     "execution_count": 4,
     "metadata": {},
     "output_type": "execute_result"
    }
   ],
   "source": [
    "id(l)"
   ]
  },
  {
   "cell_type": "code",
   "execution_count": 5,
   "id": "0e2ed261",
   "metadata": {},
   "outputs": [],
   "source": [
    "l.append(3)"
   ]
  },
  {
   "cell_type": "code",
   "execution_count": 6,
   "id": "6cf619f4",
   "metadata": {},
   "outputs": [
    {
     "data": {
      "text/plain": [
       "2653203718272"
      ]
     },
     "execution_count": 6,
     "metadata": {},
     "output_type": "execute_result"
    }
   ],
   "source": [
    "id(l)"
   ]
  },
  {
   "cell_type": "code",
   "execution_count": 9,
   "id": "8877b2ab",
   "metadata": {},
   "outputs": [],
   "source": [
    "s = \"hello\""
   ]
  },
  {
   "cell_type": "code",
   "execution_count": 10,
   "id": "3cbf98c5",
   "metadata": {},
   "outputs": [
    {
     "data": {
      "text/plain": [
       "2653199366960"
      ]
     },
     "execution_count": 10,
     "metadata": {},
     "output_type": "execute_result"
    }
   ],
   "source": [
    "id(s)"
   ]
  },
  {
   "cell_type": "code",
   "execution_count": 11,
   "id": "425cb04f",
   "metadata": {},
   "outputs": [],
   "source": [
    "s = s + \" world\""
   ]
  },
  {
   "cell_type": "code",
   "execution_count": 12,
   "id": "0c3b16af",
   "metadata": {},
   "outputs": [
    {
     "data": {
      "text/plain": [
       "2653203683952"
      ]
     },
     "execution_count": 12,
     "metadata": {},
     "output_type": "execute_result"
    }
   ],
   "source": [
    "id(s)"
   ]
  },
  {
   "cell_type": "code",
   "execution_count": 13,
   "id": "2ebbdc97",
   "metadata": {},
   "outputs": [],
   "source": [
    "l = range(4)"
   ]
  },
  {
   "cell_type": "code",
   "execution_count": 14,
   "id": "b057a1f5",
   "metadata": {},
   "outputs": [
    {
     "data": {
      "text/plain": [
       "range"
      ]
     },
     "execution_count": 14,
     "metadata": {},
     "output_type": "execute_result"
    }
   ],
   "source": [
    "type(l)"
   ]
  },
  {
   "cell_type": "code",
   "execution_count": 15,
   "id": "25322f1b",
   "metadata": {},
   "outputs": [],
   "source": [
    "l = list(range(4))"
   ]
  },
  {
   "cell_type": "code",
   "execution_count": 16,
   "id": "dd049521",
   "metadata": {},
   "outputs": [
    {
     "data": {
      "text/plain": [
       "list"
      ]
     },
     "execution_count": 16,
     "metadata": {},
     "output_type": "execute_result"
    }
   ],
   "source": [
    "type (l)"
   ]
  },
  {
   "cell_type": "code",
   "execution_count": 17,
   "id": "b5afddac",
   "metadata": {},
   "outputs": [],
   "source": [
    "l = [1, 2, 3, 4]"
   ]
  },
  {
   "cell_type": "code",
   "execution_count": 18,
   "id": "8f19a746",
   "metadata": {},
   "outputs": [
    {
     "name": "stdout",
     "output_type": "stream",
     "text": [
      "1\n",
      "2\n",
      "3\n",
      "4\n"
     ]
    }
   ],
   "source": [
    "for element in l:\n",
    "    print(element)"
   ]
  },
  {
   "cell_type": "code",
   "execution_count": 20,
   "id": "57b109ed",
   "metadata": {},
   "outputs": [],
   "source": [
    "l = [element*2 for element in l]"
   ]
  },
  {
   "cell_type": "code",
   "execution_count": 21,
   "id": "a0bd8848",
   "metadata": {},
   "outputs": [
    {
     "data": {
      "text/plain": [
       "[2, 4, 6, 8]"
      ]
     },
     "execution_count": 21,
     "metadata": {},
     "output_type": "execute_result"
    }
   ],
   "source": [
    "l"
   ]
  },
  {
   "cell_type": "code",
   "execution_count": 22,
   "id": "ef187228",
   "metadata": {},
   "outputs": [],
   "source": [
    "l = [1, 2, 3] * 2"
   ]
  },
  {
   "cell_type": "code",
   "execution_count": 23,
   "id": "a4a7bd22",
   "metadata": {},
   "outputs": [
    {
     "data": {
      "text/plain": [
       "[1, 2, 3, 1, 2, 3]"
      ]
     },
     "execution_count": 23,
     "metadata": {},
     "output_type": "execute_result"
    }
   ],
   "source": [
    "l"
   ]
  },
  {
   "cell_type": "markdown",
   "id": "4d266f40",
   "metadata": {},
   "source": [
    "### Size comparision for Numpy arr and list"
   ]
  },
  {
   "cell_type": "code",
   "execution_count": 33,
   "id": "45883a0f",
   "metadata": {},
   "outputs": [],
   "source": [
    "l = [1, 2, 3, 4, 5, 6, 7, 8, 9, 10, 1, 2, 3, 4, 5, 6, 7, 8, 9, 10]"
   ]
  },
  {
   "cell_type": "code",
   "execution_count": 34,
   "id": "3b25c484",
   "metadata": {},
   "outputs": [],
   "source": [
    "import sys"
   ]
  },
  {
   "cell_type": "code",
   "execution_count": 35,
   "id": "fef42522",
   "metadata": {},
   "outputs": [
    {
     "data": {
      "text/plain": [
       "216"
      ]
     },
     "execution_count": 35,
     "metadata": {},
     "output_type": "execute_result"
    }
   ],
   "source": [
    "sys.getsizeof(l)"
   ]
  },
  {
   "cell_type": "code",
   "execution_count": 36,
   "id": "c93054c2",
   "metadata": {},
   "outputs": [],
   "source": [
    "import numpy as np"
   ]
  },
  {
   "cell_type": "code",
   "execution_count": 37,
   "id": "7b851f25",
   "metadata": {},
   "outputs": [],
   "source": [
    "a = np.array([1, 2, 3, 4, 5, 6, 7, 8, 9, 10, 1, 2, 3, 4, 5, 6, 7, 8, 9, 10])"
   ]
  },
  {
   "cell_type": "code",
   "execution_count": 38,
   "id": "9e492712",
   "metadata": {},
   "outputs": [
    {
     "data": {
      "text/plain": [
       "192"
      ]
     },
     "execution_count": 38,
     "metadata": {},
     "output_type": "execute_result"
    }
   ],
   "source": [
    "sys.getsizeof(a)"
   ]
  },
  {
   "cell_type": "markdown",
   "id": "07524465",
   "metadata": {},
   "source": [
    "### Ways to create Numpy Array"
   ]
  },
  {
   "cell_type": "code",
   "execution_count": 39,
   "id": "a27eb712",
   "metadata": {},
   "outputs": [],
   "source": [
    "import numpy as np"
   ]
  },
  {
   "cell_type": "code",
   "execution_count": 40,
   "id": "85eacad5",
   "metadata": {},
   "outputs": [],
   "source": [
    "a = np.arange(5)"
   ]
  },
  {
   "cell_type": "code",
   "execution_count": 41,
   "id": "a0525ca4",
   "metadata": {},
   "outputs": [
    {
     "data": {
      "text/plain": [
       "array([0, 1, 2, 3, 4])"
      ]
     },
     "execution_count": 41,
     "metadata": {},
     "output_type": "execute_result"
    }
   ],
   "source": [
    "a"
   ]
  },
  {
   "cell_type": "markdown",
   "id": "bff55b5f",
   "metadata": {},
   "source": [
    "##### NP arrays have got 0 based indexing same as that of the python list"
   ]
  },
  {
   "cell_type": "code",
   "execution_count": 44,
   "id": "b78e694b",
   "metadata": {},
   "outputs": [],
   "source": [
    "l = [1,2,3]\n",
    "a = np.array(l)"
   ]
  },
  {
   "cell_type": "code",
   "execution_count": 45,
   "id": "61de424a",
   "metadata": {},
   "outputs": [
    {
     "data": {
      "text/plain": [
       "array([1, 2, 3])"
      ]
     },
     "execution_count": 45,
     "metadata": {},
     "output_type": "execute_result"
    }
   ],
   "source": [
    "a"
   ]
  },
  {
   "cell_type": "code",
   "execution_count": 46,
   "id": "8d8783b9",
   "metadata": {},
   "outputs": [],
   "source": [
    "a = np.array([(1,2,3), (4,5,6)])"
   ]
  },
  {
   "cell_type": "code",
   "execution_count": 47,
   "id": "0ce0d794",
   "metadata": {},
   "outputs": [
    {
     "data": {
      "text/plain": [
       "array([[1, 2, 3],\n",
       "       [4, 5, 6]])"
      ]
     },
     "execution_count": 47,
     "metadata": {},
     "output_type": "execute_result"
    }
   ],
   "source": [
    "a"
   ]
  },
  {
   "cell_type": "code",
   "execution_count": 49,
   "id": "4d4d2838",
   "metadata": {},
   "outputs": [],
   "source": [
    "a = np.zeros((2, 3))"
   ]
  },
  {
   "cell_type": "code",
   "execution_count": 50,
   "id": "9166bad2",
   "metadata": {},
   "outputs": [
    {
     "data": {
      "text/plain": [
       "array([[0., 0., 0.],\n",
       "       [0., 0., 0.]])"
      ]
     },
     "execution_count": 50,
     "metadata": {},
     "output_type": "execute_result"
    }
   ],
   "source": [
    "a"
   ]
  },
  {
   "cell_type": "code",
   "execution_count": 51,
   "id": "c856f583",
   "metadata": {},
   "outputs": [],
   "source": [
    "a = np.ones((2, 3))"
   ]
  },
  {
   "cell_type": "code",
   "execution_count": 52,
   "id": "c2a6007f",
   "metadata": {},
   "outputs": [
    {
     "data": {
      "text/plain": [
       "array([[1., 1., 1.],\n",
       "       [1., 1., 1.]])"
      ]
     },
     "execution_count": 52,
     "metadata": {},
     "output_type": "execute_result"
    }
   ],
   "source": [
    "a"
   ]
  },
  {
   "cell_type": "code",
   "execution_count": 53,
   "id": "b1a3cb4d",
   "metadata": {},
   "outputs": [],
   "source": [
    "a = np.empty((2, 3))"
   ]
  },
  {
   "cell_type": "code",
   "execution_count": 54,
   "id": "2dd89b47",
   "metadata": {},
   "outputs": [
    {
     "data": {
      "text/plain": [
       "array([[1., 1., 1.],\n",
       "       [1., 1., 1.]])"
      ]
     },
     "execution_count": 54,
     "metadata": {},
     "output_type": "execute_result"
    }
   ],
   "source": [
    "a"
   ]
  },
  {
   "cell_type": "code",
   "execution_count": 55,
   "id": "e8891459",
   "metadata": {},
   "outputs": [],
   "source": [
    "a = np.full((2, 3), 5)"
   ]
  },
  {
   "cell_type": "code",
   "execution_count": 56,
   "id": "0dd72da4",
   "metadata": {},
   "outputs": [
    {
     "data": {
      "text/plain": [
       "array([[5, 5, 5],\n",
       "       [5, 5, 5]])"
      ]
     },
     "execution_count": 56,
     "metadata": {},
     "output_type": "execute_result"
    }
   ],
   "source": [
    "a"
   ]
  },
  {
   "cell_type": "code",
   "execution_count": 57,
   "id": "cbbf559a",
   "metadata": {},
   "outputs": [],
   "source": [
    "a = np.random.random((2, 2))"
   ]
  },
  {
   "cell_type": "code",
   "execution_count": 58,
   "id": "2364429b",
   "metadata": {},
   "outputs": [
    {
     "data": {
      "text/plain": [
       "array([[0.93013738, 0.55778578],\n",
       "       [0.79032909, 0.10599809]])"
      ]
     },
     "execution_count": 58,
     "metadata": {},
     "output_type": "execute_result"
    }
   ],
   "source": [
    "a"
   ]
  },
  {
   "cell_type": "markdown",
   "id": "4673ed42",
   "metadata": {},
   "source": [
    "### NP Dim"
   ]
  },
  {
   "cell_type": "code",
   "execution_count": 59,
   "id": "1c3b1c8a",
   "metadata": {},
   "outputs": [],
   "source": [
    "a = np.array(3)"
   ]
  },
  {
   "cell_type": "code",
   "execution_count": 60,
   "id": "8b7ecff0",
   "metadata": {},
   "outputs": [
    {
     "data": {
      "text/plain": [
       "array(3)"
      ]
     },
     "execution_count": 60,
     "metadata": {},
     "output_type": "execute_result"
    }
   ],
   "source": [
    "a"
   ]
  },
  {
   "cell_type": "code",
   "execution_count": 61,
   "id": "5ec272e4",
   "metadata": {},
   "outputs": [
    {
     "data": {
      "text/plain": [
       "0"
      ]
     },
     "execution_count": 61,
     "metadata": {},
     "output_type": "execute_result"
    }
   ],
   "source": [
    "a.ndim"
   ]
  },
  {
   "cell_type": "code",
   "execution_count": 62,
   "id": "3fd6277a",
   "metadata": {},
   "outputs": [],
   "source": [
    "a = np.array([1,2,3,4])"
   ]
  },
  {
   "cell_type": "code",
   "execution_count": 63,
   "id": "da2c57d0",
   "metadata": {},
   "outputs": [
    {
     "data": {
      "text/plain": [
       "array([1, 2, 3, 4])"
      ]
     },
     "execution_count": 63,
     "metadata": {},
     "output_type": "execute_result"
    }
   ],
   "source": [
    "a"
   ]
  },
  {
   "cell_type": "code",
   "execution_count": 64,
   "id": "594037c9",
   "metadata": {},
   "outputs": [
    {
     "data": {
      "text/plain": [
       "1"
      ]
     },
     "execution_count": 64,
     "metadata": {},
     "output_type": "execute_result"
    }
   ],
   "source": [
    "a.ndim"
   ]
  },
  {
   "cell_type": "code",
   "execution_count": 65,
   "id": "f9470775",
   "metadata": {},
   "outputs": [],
   "source": [
    "a = np.array([[1,2],[3,4]])"
   ]
  },
  {
   "cell_type": "code",
   "execution_count": 66,
   "id": "8283b2f3",
   "metadata": {},
   "outputs": [
    {
     "data": {
      "text/plain": [
       "array([[1, 2],\n",
       "       [3, 4]])"
      ]
     },
     "execution_count": 66,
     "metadata": {},
     "output_type": "execute_result"
    }
   ],
   "source": [
    "a"
   ]
  },
  {
   "cell_type": "code",
   "execution_count": 67,
   "id": "14985213",
   "metadata": {},
   "outputs": [
    {
     "data": {
      "text/plain": [
       "2"
      ]
     },
     "execution_count": 67,
     "metadata": {},
     "output_type": "execute_result"
    }
   ],
   "source": [
    "a.ndim"
   ]
  },
  {
   "cell_type": "markdown",
   "id": "333f4fdd",
   "metadata": {},
   "source": [
    "## NP array property"
   ]
  },
  {
   "cell_type": "code",
   "execution_count": 77,
   "id": "0f2b448c",
   "metadata": {},
   "outputs": [],
   "source": [
    "a = np.array([[10, 20, 30],[23, 40, 50]])"
   ]
  },
  {
   "cell_type": "code",
   "execution_count": 78,
   "id": "6ac5dbec",
   "metadata": {},
   "outputs": [
    {
     "data": {
      "text/plain": [
       "(2, 3)"
      ]
     },
     "execution_count": 78,
     "metadata": {},
     "output_type": "execute_result"
    }
   ],
   "source": [
    "# shape: \n",
    "a.shape"
   ]
  },
  {
   "cell_type": "code",
   "execution_count": 79,
   "id": "1afab169",
   "metadata": {},
   "outputs": [
    {
     "data": {
      "text/plain": [
       "6"
      ]
     },
     "execution_count": 79,
     "metadata": {},
     "output_type": "execute_result"
    }
   ],
   "source": [
    "# size\n",
    "a.size"
   ]
  },
  {
   "cell_type": "code",
   "execution_count": 80,
   "id": "1f67270a",
   "metadata": {},
   "outputs": [
    {
     "data": {
      "text/plain": [
       "dtype('int32')"
      ]
     },
     "execution_count": 80,
     "metadata": {},
     "output_type": "execute_result"
    }
   ],
   "source": [
    "# dtype\n",
    "a.dtype"
   ]
  },
  {
   "cell_type": "code",
   "execution_count": 81,
   "id": "ec16b206",
   "metadata": {},
   "outputs": [
    {
     "data": {
      "text/plain": [
       "4"
      ]
     },
     "execution_count": 81,
     "metadata": {},
     "output_type": "execute_result"
    }
   ],
   "source": [
    "# itemsize\n",
    "a.itemsize"
   ]
  },
  {
   "cell_type": "code",
   "execution_count": null,
   "id": "03e0b1ba",
   "metadata": {},
   "outputs": [],
   "source": []
  }
 ],
 "metadata": {
  "kernelspec": {
   "display_name": "Python 3 (ipykernel)",
   "language": "python",
   "name": "python3"
  },
  "language_info": {
   "codemirror_mode": {
    "name": "ipython",
    "version": 3
   },
   "file_extension": ".py",
   "mimetype": "text/x-python",
   "name": "python",
   "nbconvert_exporter": "python",
   "pygments_lexer": "ipython3",
   "version": "3.11.3"
  }
 },
 "nbformat": 4,
 "nbformat_minor": 5
}
