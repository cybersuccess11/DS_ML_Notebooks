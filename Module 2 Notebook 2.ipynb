{
 "cells": [
  {
   "cell_type": "markdown",
   "id": "2506521e",
   "metadata": {},
   "source": [
    "### Specify Data type while creating Numpy Array"
   ]
  },
  {
   "cell_type": "code",
   "execution_count": 2,
   "id": "cb64f816",
   "metadata": {},
   "outputs": [],
   "source": [
    "import numpy as np"
   ]
  },
  {
   "cell_type": "code",
   "execution_count": 3,
   "id": "d23415b7",
   "metadata": {},
   "outputs": [],
   "source": [
    "arr = np.array([10, 20, 30, 40], dtype='i8')"
   ]
  },
  {
   "cell_type": "code",
   "execution_count": 4,
   "id": "f18691a1",
   "metadata": {},
   "outputs": [
    {
     "data": {
      "text/plain": [
       "dtype('int64')"
      ]
     },
     "execution_count": 4,
     "metadata": {},
     "output_type": "execute_result"
    }
   ],
   "source": [
    "arr.dtype"
   ]
  },
  {
   "cell_type": "code",
   "execution_count": 5,
   "id": "3993bdbb",
   "metadata": {},
   "outputs": [],
   "source": [
    "arr = np.array([10, 20, 30, 40], dtype='i1')"
   ]
  },
  {
   "cell_type": "code",
   "execution_count": 6,
   "id": "646a9a8f",
   "metadata": {},
   "outputs": [
    {
     "data": {
      "text/plain": [
       "dtype('int8')"
      ]
     },
     "execution_count": 6,
     "metadata": {},
     "output_type": "execute_result"
    }
   ],
   "source": [
    "arr.dtype"
   ]
  },
  {
   "cell_type": "code",
   "execution_count": 7,
   "id": "48fc7090",
   "metadata": {},
   "outputs": [],
   "source": [
    "arr = np.array([10, 20, 30, 40])"
   ]
  },
  {
   "cell_type": "code",
   "execution_count": 8,
   "id": "e54f0c95",
   "metadata": {},
   "outputs": [
    {
     "data": {
      "text/plain": [
       "dtype('int32')"
      ]
     },
     "execution_count": 8,
     "metadata": {},
     "output_type": "execute_result"
    }
   ],
   "source": [
    "arr.dtype"
   ]
  },
  {
   "cell_type": "code",
   "execution_count": 9,
   "id": "88f669f2",
   "metadata": {},
   "outputs": [],
   "source": [
    "arr = np.array([10.5, 11.6, 12.3])"
   ]
  },
  {
   "cell_type": "code",
   "execution_count": 10,
   "id": "4782e078",
   "metadata": {},
   "outputs": [
    {
     "data": {
      "text/plain": [
       "dtype('float64')"
      ]
     },
     "execution_count": 10,
     "metadata": {},
     "output_type": "execute_result"
    }
   ],
   "source": [
    "arr.dtype"
   ]
  },
  {
   "cell_type": "code",
   "execution_count": 11,
   "id": "7c48ec3d",
   "metadata": {},
   "outputs": [],
   "source": [
    "arr = np.array([10.5, 11.6, 12.3], dtype='f8')"
   ]
  },
  {
   "cell_type": "code",
   "execution_count": 12,
   "id": "2bb7ae4f",
   "metadata": {},
   "outputs": [
    {
     "data": {
      "text/plain": [
       "dtype('float64')"
      ]
     },
     "execution_count": 12,
     "metadata": {},
     "output_type": "execute_result"
    }
   ],
   "source": [
    "arr.dtype"
   ]
  },
  {
   "cell_type": "code",
   "execution_count": 14,
   "id": "053b63c8",
   "metadata": {},
   "outputs": [],
   "source": [
    "arr = np.array([10.5, 11.6, 12.3], dtype='f4')"
   ]
  },
  {
   "cell_type": "code",
   "execution_count": 15,
   "id": "e0e96d80",
   "metadata": {},
   "outputs": [
    {
     "data": {
      "text/plain": [
       "dtype('float32')"
      ]
     },
     "execution_count": 15,
     "metadata": {},
     "output_type": "execute_result"
    }
   ],
   "source": [
    "arr.dtype"
   ]
  },
  {
   "cell_type": "markdown",
   "id": "7ebaf242",
   "metadata": {},
   "source": [
    "### Converting Data Type for Numpy Array"
   ]
  },
  {
   "cell_type": "code",
   "execution_count": 21,
   "id": "2c79e15b",
   "metadata": {},
   "outputs": [
    {
     "data": {
      "text/plain": [
       "dtype('float32')"
      ]
     },
     "execution_count": 21,
     "metadata": {},
     "output_type": "execute_result"
    }
   ],
   "source": [
    "arr = np.array([10, 20, 30])\n",
    "arr.dtype\n",
    "arr = arr.astype('float32')\n",
    "arr\n",
    "arr.dtype"
   ]
  },
  {
   "cell_type": "markdown",
   "id": "42970358",
   "metadata": {},
   "source": [
    "### Ways to create Numpy Array"
   ]
  },
  {
   "cell_type": "markdown",
   "id": "cef2a96e",
   "metadata": {},
   "source": [
    "#### 1. From List/ Tuple (object(s) implementing array interface)"
   ]
  },
  {
   "cell_type": "code",
   "execution_count": 22,
   "id": "79f735f4",
   "metadata": {},
   "outputs": [],
   "source": [
    "l = [10,20,30,40]\n",
    "arr = np.array(l)"
   ]
  },
  {
   "cell_type": "code",
   "execution_count": 23,
   "id": "d17e909b",
   "metadata": {},
   "outputs": [
    {
     "data": {
      "text/plain": [
       "dtype('int32')"
      ]
     },
     "execution_count": 23,
     "metadata": {},
     "output_type": "execute_result"
    }
   ],
   "source": [
    "arr.dtype"
   ]
  },
  {
   "cell_type": "code",
   "execution_count": 24,
   "id": "58d65ad1",
   "metadata": {},
   "outputs": [],
   "source": [
    "t = (10,20,30,40)\n",
    "arr = np.array(t)"
   ]
  },
  {
   "cell_type": "code",
   "execution_count": 25,
   "id": "9b89f9b5",
   "metadata": {},
   "outputs": [
    {
     "data": {
      "text/plain": [
       "dtype('int32')"
      ]
     },
     "execution_count": 25,
     "metadata": {},
     "output_type": "execute_result"
    }
   ],
   "source": [
    "arr.dtype"
   ]
  },
  {
   "cell_type": "markdown",
   "id": "dea56bf6",
   "metadata": {},
   "source": [
    "#### 2. By using numpy library functions"
   ]
  },
  {
   "cell_type": "code",
   "execution_count": 26,
   "id": "726ef3bf",
   "metadata": {},
   "outputs": [],
   "source": [
    "arr1 = np.zeros(5)"
   ]
  },
  {
   "cell_type": "code",
   "execution_count": 27,
   "id": "6b787b7b",
   "metadata": {},
   "outputs": [
    {
     "data": {
      "text/plain": [
       "array([0., 0., 0., 0., 0.])"
      ]
     },
     "execution_count": 27,
     "metadata": {},
     "output_type": "execute_result"
    }
   ],
   "source": [
    "arr1"
   ]
  },
  {
   "cell_type": "code",
   "execution_count": 28,
   "id": "d17440d0",
   "metadata": {},
   "outputs": [
    {
     "data": {
      "text/plain": [
       "dtype('float64')"
      ]
     },
     "execution_count": 28,
     "metadata": {},
     "output_type": "execute_result"
    }
   ],
   "source": [
    "arr1.dtype"
   ]
  },
  {
   "cell_type": "code",
   "execution_count": 29,
   "id": "2abd3c78",
   "metadata": {},
   "outputs": [],
   "source": [
    "arr2 = np.ones(5)"
   ]
  },
  {
   "cell_type": "code",
   "execution_count": 30,
   "id": "402097d3",
   "metadata": {},
   "outputs": [
    {
     "data": {
      "text/plain": [
       "array([1., 1., 1., 1., 1.])"
      ]
     },
     "execution_count": 30,
     "metadata": {},
     "output_type": "execute_result"
    }
   ],
   "source": [
    "arr2"
   ]
  },
  {
   "cell_type": "code",
   "execution_count": 31,
   "id": "de8376a2",
   "metadata": {},
   "outputs": [],
   "source": [
    "arr3 = np.full(5, 6)"
   ]
  },
  {
   "cell_type": "code",
   "execution_count": 32,
   "id": "a2f47e44",
   "metadata": {},
   "outputs": [
    {
     "data": {
      "text/plain": [
       "array([6, 6, 6, 6, 6])"
      ]
     },
     "execution_count": 32,
     "metadata": {},
     "output_type": "execute_result"
    }
   ],
   "source": [
    "arr3"
   ]
  },
  {
   "cell_type": "code",
   "execution_count": 35,
   "id": "7036189a",
   "metadata": {},
   "outputs": [],
   "source": [
    "arr3 = np.full((2,3), 6)"
   ]
  },
  {
   "cell_type": "code",
   "execution_count": 36,
   "id": "9d9cdae0",
   "metadata": {},
   "outputs": [
    {
     "data": {
      "text/plain": [
       "array([[6, 6, 6],\n",
       "       [6, 6, 6]])"
      ]
     },
     "execution_count": 36,
     "metadata": {},
     "output_type": "execute_result"
    }
   ],
   "source": [
    "arr3"
   ]
  },
  {
   "cell_type": "code",
   "execution_count": 37,
   "id": "7ce6019b",
   "metadata": {},
   "outputs": [],
   "source": [
    "arr3 = np.full([2,3], 6)"
   ]
  },
  {
   "cell_type": "code",
   "execution_count": 38,
   "id": "e579c071",
   "metadata": {},
   "outputs": [
    {
     "data": {
      "text/plain": [
       "array([[6, 6, 6],\n",
       "       [6, 6, 6]])"
      ]
     },
     "execution_count": 38,
     "metadata": {},
     "output_type": "execute_result"
    }
   ],
   "source": [
    "arr3"
   ]
  },
  {
   "cell_type": "code",
   "execution_count": 39,
   "id": "d2293124",
   "metadata": {},
   "outputs": [],
   "source": [
    "arr4 = np.arange(0,10,2)"
   ]
  },
  {
   "cell_type": "code",
   "execution_count": 40,
   "id": "81a923e7",
   "metadata": {},
   "outputs": [
    {
     "data": {
      "text/plain": [
       "array([0, 2, 4, 6, 8])"
      ]
     },
     "execution_count": 40,
     "metadata": {},
     "output_type": "execute_result"
    }
   ],
   "source": [
    "arr4"
   ]
  },
  {
   "cell_type": "markdown",
   "id": "6f293c56",
   "metadata": {},
   "source": [
    "#### 3. From CSV and Txt Files"
   ]
  },
  {
   "cell_type": "code",
   "execution_count": 43,
   "id": "c894cc7f",
   "metadata": {},
   "outputs": [],
   "source": [
    "arr = np.genfromtxt(\"data.csv\", delimiter=\",\")"
   ]
  },
  {
   "cell_type": "code",
   "execution_count": 44,
   "id": "3111fc1b",
   "metadata": {},
   "outputs": [
    {
     "data": {
      "text/plain": [
       "array([[10., 20., 30.],\n",
       "       [40., 50., 60.],\n",
       "       [70., 80., 90.]])"
      ]
     },
     "execution_count": 44,
     "metadata": {},
     "output_type": "execute_result"
    }
   ],
   "source": [
    "arr"
   ]
  },
  {
   "cell_type": "code",
   "execution_count": 45,
   "id": "fab91f3a",
   "metadata": {},
   "outputs": [
    {
     "data": {
      "text/plain": [
       "dtype('float64')"
      ]
     },
     "execution_count": 45,
     "metadata": {},
     "output_type": "execute_result"
    }
   ],
   "source": [
    "arr.dtype"
   ]
  },
  {
   "cell_type": "markdown",
   "id": "3317e6d8",
   "metadata": {},
   "source": [
    "### Operations with Numpy Arrays:"
   ]
  },
  {
   "cell_type": "code",
   "execution_count": 46,
   "id": "13cf7cdd",
   "metadata": {},
   "outputs": [],
   "source": [
    "arr1 = np.array([1,2,3])\n",
    "arr2 = np.array([2,4,3])"
   ]
  },
  {
   "cell_type": "markdown",
   "id": "fb9a4237",
   "metadata": {},
   "source": [
    "#### 1. Math Oprs:"
   ]
  },
  {
   "cell_type": "code",
   "execution_count": 47,
   "id": "3bd199d1",
   "metadata": {},
   "outputs": [
    {
     "data": {
      "text/plain": [
       "array([3, 6, 6])"
      ]
     },
     "execution_count": 47,
     "metadata": {},
     "output_type": "execute_result"
    }
   ],
   "source": [
    "arr1 + arr2"
   ]
  },
  {
   "cell_type": "code",
   "execution_count": 48,
   "id": "1f46f8f6",
   "metadata": {},
   "outputs": [
    {
     "data": {
      "text/plain": [
       "array([-1, -2,  0])"
      ]
     },
     "execution_count": 48,
     "metadata": {},
     "output_type": "execute_result"
    }
   ],
   "source": [
    "arr1 - arr2"
   ]
  },
  {
   "cell_type": "code",
   "execution_count": 49,
   "id": "310eea80",
   "metadata": {},
   "outputs": [
    {
     "data": {
      "text/plain": [
       "array([2, 8, 9])"
      ]
     },
     "execution_count": 49,
     "metadata": {},
     "output_type": "execute_result"
    }
   ],
   "source": [
    "arr1 * arr2"
   ]
  },
  {
   "cell_type": "code",
   "execution_count": 50,
   "id": "49cb8a13",
   "metadata": {},
   "outputs": [
    {
     "data": {
      "text/plain": [
       "array([0.5, 0.5, 1. ])"
      ]
     },
     "execution_count": 50,
     "metadata": {},
     "output_type": "execute_result"
    }
   ],
   "source": [
    "arr1/arr2"
   ]
  },
  {
   "cell_type": "code",
   "execution_count": 51,
   "id": "877776ef",
   "metadata": {},
   "outputs": [
    {
     "data": {
      "text/plain": [
       "array([ 1, 16, 27])"
      ]
     },
     "execution_count": 51,
     "metadata": {},
     "output_type": "execute_result"
    }
   ],
   "source": [
    "arr1 ** arr2"
   ]
  },
  {
   "cell_type": "code",
   "execution_count": 53,
   "id": "78c73abe",
   "metadata": {},
   "outputs": [
    {
     "data": {
      "text/plain": [
       "array([ 1,  8, 27], dtype=int32)"
      ]
     },
     "execution_count": 53,
     "metadata": {},
     "output_type": "execute_result"
    }
   ],
   "source": [
    "arr1 ** 3 # vectorization support by numpy array"
   ]
  },
  {
   "cell_type": "markdown",
   "id": "02b46292",
   "metadata": {},
   "source": [
    "#### 2. Logical Operations"
   ]
  },
  {
   "cell_type": "code",
   "execution_count": 54,
   "id": "7870961a",
   "metadata": {},
   "outputs": [
    {
     "data": {
      "text/plain": [
       "array([False, False,  True])"
      ]
     },
     "execution_count": 54,
     "metadata": {},
     "output_type": "execute_result"
    }
   ],
   "source": [
    "arr1 == arr2"
   ]
  },
  {
   "cell_type": "code",
   "execution_count": 55,
   "id": "fe97ac67",
   "metadata": {},
   "outputs": [
    {
     "data": {
      "text/plain": [
       "array([False, False, False])"
      ]
     },
     "execution_count": 55,
     "metadata": {},
     "output_type": "execute_result"
    }
   ],
   "source": [
    "arr1 > arr2"
   ]
  },
  {
   "cell_type": "code",
   "execution_count": 56,
   "id": "039609ef",
   "metadata": {},
   "outputs": [
    {
     "data": {
      "text/plain": [
       "array([ True,  True,  True])"
      ]
     },
     "execution_count": 56,
     "metadata": {},
     "output_type": "execute_result"
    }
   ],
   "source": [
    "np.logical_and(arr1, arr2)"
   ]
  },
  {
   "cell_type": "code",
   "execution_count": 57,
   "id": "c1b53e9a",
   "metadata": {},
   "outputs": [],
   "source": [
    "arr2 = np.array([0,2,0])"
   ]
  },
  {
   "cell_type": "code",
   "execution_count": 58,
   "id": "2285d60c",
   "metadata": {},
   "outputs": [
    {
     "data": {
      "text/plain": [
       "array([False,  True, False])"
      ]
     },
     "execution_count": 58,
     "metadata": {},
     "output_type": "execute_result"
    }
   ],
   "source": [
    "np.logical_and(arr1, arr2)"
   ]
  },
  {
   "cell_type": "markdown",
   "id": "9a45134a",
   "metadata": {},
   "source": [
    "#### 3. Statistical Operation on Numpy Array"
   ]
  },
  {
   "cell_type": "code",
   "execution_count": 59,
   "id": "159a4f27",
   "metadata": {},
   "outputs": [],
   "source": [
    "arr1 = np.array([10,20,30,40,50,60])"
   ]
  },
  {
   "cell_type": "code",
   "execution_count": 60,
   "id": "d2fdc850",
   "metadata": {},
   "outputs": [
    {
     "data": {
      "text/plain": [
       "210"
      ]
     },
     "execution_count": 60,
     "metadata": {},
     "output_type": "execute_result"
    }
   ],
   "source": [
    "np.sum(arr1)"
   ]
  },
  {
   "cell_type": "code",
   "execution_count": 61,
   "id": "970e09fd",
   "metadata": {},
   "outputs": [
    {
     "data": {
      "text/plain": [
       "35.0"
      ]
     },
     "execution_count": 61,
     "metadata": {},
     "output_type": "execute_result"
    }
   ],
   "source": [
    "np.mean(arr1)"
   ]
  },
  {
   "cell_type": "code",
   "execution_count": 62,
   "id": "f9e64d85",
   "metadata": {},
   "outputs": [
    {
     "data": {
      "text/plain": [
       "35.0"
      ]
     },
     "execution_count": 62,
     "metadata": {},
     "output_type": "execute_result"
    }
   ],
   "source": [
    "np.median(arr1)"
   ]
  },
  {
   "cell_type": "code",
   "execution_count": 63,
   "id": "e2d75e72",
   "metadata": {},
   "outputs": [
    {
     "data": {
      "text/plain": [
       "10"
      ]
     },
     "execution_count": 63,
     "metadata": {},
     "output_type": "execute_result"
    }
   ],
   "source": [
    "np.min(arr1)"
   ]
  },
  {
   "cell_type": "code",
   "execution_count": 64,
   "id": "a521920f",
   "metadata": {},
   "outputs": [
    {
     "data": {
      "text/plain": [
       "60"
      ]
     },
     "execution_count": 64,
     "metadata": {},
     "output_type": "execute_result"
    }
   ],
   "source": [
    "np.max(arr1)"
   ]
  },
  {
   "cell_type": "markdown",
   "id": "d4ec103e",
   "metadata": {},
   "source": [
    "#### Slicing and Indexing"
   ]
  },
  {
   "cell_type": "code",
   "execution_count": 65,
   "id": "eaf1994f",
   "metadata": {},
   "outputs": [],
   "source": [
    "arr1 = np.array([10,20,30,40,50,60])"
   ]
  },
  {
   "cell_type": "code",
   "execution_count": 66,
   "id": "09421c48",
   "metadata": {},
   "outputs": [
    {
     "data": {
      "text/plain": [
       "10"
      ]
     },
     "execution_count": 66,
     "metadata": {},
     "output_type": "execute_result"
    }
   ],
   "source": [
    "arr1[0]"
   ]
  },
  {
   "cell_type": "code",
   "execution_count": 68,
   "id": "1c957cf2",
   "metadata": {},
   "outputs": [
    {
     "data": {
      "text/plain": [
       "60"
      ]
     },
     "execution_count": 68,
     "metadata": {},
     "output_type": "execute_result"
    }
   ],
   "source": [
    "arr1[-1]"
   ]
  },
  {
   "cell_type": "code",
   "execution_count": 69,
   "id": "f71f489c",
   "metadata": {},
   "outputs": [
    {
     "data": {
      "text/plain": [
       "array([10, 20, 30, 40])"
      ]
     },
     "execution_count": 69,
     "metadata": {},
     "output_type": "execute_result"
    }
   ],
   "source": [
    "arr1[0:4]"
   ]
  },
  {
   "cell_type": "code",
   "execution_count": 70,
   "id": "fa4cd320",
   "metadata": {},
   "outputs": [
    {
     "data": {
      "text/plain": [
       "array([10, 30, 50])"
      ]
     },
     "execution_count": 70,
     "metadata": {},
     "output_type": "execute_result"
    }
   ],
   "source": [
    "arr1[0:6:2]"
   ]
  },
  {
   "cell_type": "code",
   "execution_count": 71,
   "id": "36df423d",
   "metadata": {},
   "outputs": [
    {
     "data": {
      "text/plain": [
       "array([10, 30, 50])"
      ]
     },
     "execution_count": 71,
     "metadata": {},
     "output_type": "execute_result"
    }
   ],
   "source": [
    "arr1[::2]"
   ]
  },
  {
   "cell_type": "code",
   "execution_count": 72,
   "id": "9925e5e2",
   "metadata": {},
   "outputs": [
    {
     "data": {
      "text/plain": [
       "array([60, 50, 40, 30, 20, 10])"
      ]
     },
     "execution_count": 72,
     "metadata": {},
     "output_type": "execute_result"
    }
   ],
   "source": [
    "arr1[::-1]"
   ]
  },
  {
   "cell_type": "markdown",
   "id": "67db2bc6",
   "metadata": {},
   "source": [
    "#### Reshaping and Manipulation with Numpy array"
   ]
  },
  {
   "cell_type": "code",
   "execution_count": 73,
   "id": "afe48b1c",
   "metadata": {},
   "outputs": [],
   "source": [
    "arr1 = np.array([10,20,30,40])"
   ]
  },
  {
   "cell_type": "code",
   "execution_count": 74,
   "id": "dd986a9b",
   "metadata": {},
   "outputs": [
    {
     "data": {
      "text/plain": [
       "array([[10, 20],\n",
       "       [30, 40]])"
      ]
     },
     "execution_count": 74,
     "metadata": {},
     "output_type": "execute_result"
    }
   ],
   "source": [
    "np.reshape(arr1, (2,2))"
   ]
  },
  {
   "cell_type": "code",
   "execution_count": 75,
   "id": "94756f7e",
   "metadata": {},
   "outputs": [
    {
     "data": {
      "text/plain": [
       "array([[10, 20],\n",
       "       [30, 40]])"
      ]
     },
     "execution_count": 75,
     "metadata": {},
     "output_type": "execute_result"
    }
   ],
   "source": [
    "np.reshape(arr1, [2,2])"
   ]
  },
  {
   "cell_type": "code",
   "execution_count": 78,
   "id": "a4c7d84f",
   "metadata": {},
   "outputs": [],
   "source": [
    "arr1 = np.array([[1, 2], [3, 4]])"
   ]
  },
  {
   "cell_type": "code",
   "execution_count": 79,
   "id": "c518bf39",
   "metadata": {},
   "outputs": [
    {
     "data": {
      "text/plain": [
       "array([[1, 2],\n",
       "       [3, 4]])"
      ]
     },
     "execution_count": 79,
     "metadata": {},
     "output_type": "execute_result"
    }
   ],
   "source": [
    "arr1"
   ]
  },
  {
   "cell_type": "code",
   "execution_count": 80,
   "id": "a5c7c67d",
   "metadata": {},
   "outputs": [
    {
     "data": {
      "text/plain": [
       "array([[1, 3],\n",
       "       [2, 4]])"
      ]
     },
     "execution_count": 80,
     "metadata": {},
     "output_type": "execute_result"
    }
   ],
   "source": [
    "arr1.T"
   ]
  },
  {
   "cell_type": "code",
   "execution_count": 81,
   "id": "7877a5c1",
   "metadata": {},
   "outputs": [],
   "source": [
    "arr1 = np.array([10,20,30])\n",
    "arr2 = np.array([40,50,60])"
   ]
  },
  {
   "cell_type": "code",
   "execution_count": 84,
   "id": "f15836c0",
   "metadata": {},
   "outputs": [
    {
     "data": {
      "text/plain": [
       "array([10, 20, 30, 40, 50, 60])"
      ]
     },
     "execution_count": 84,
     "metadata": {},
     "output_type": "execute_result"
    }
   ],
   "source": [
    "np.concatenate((arr1, arr2), axis=0)"
   ]
  },
  {
   "cell_type": "markdown",
   "id": "0003807b",
   "metadata": {},
   "source": [
    "### Numpy Array attributes:"
   ]
  },
  {
   "cell_type": "code",
   "execution_count": 91,
   "id": "829de3b8",
   "metadata": {},
   "outputs": [
    {
     "name": "stdout",
     "output_type": "stream",
     "text": [
      "Number of array dimensions: 2\n",
      "Array shape: (2, 3)\n",
      "Total number of elements: 6\n",
      "Data type of elements: int32\n",
      "Size of each element (in bytes): 4\n",
      "Total size of the array (in bytes): 24\n",
      "Transposed array:\n",
      " [[1 4]\n",
      " [2 5]\n",
      " [3 6]]\n"
     ]
    }
   ],
   "source": [
    "import numpy as np\n",
    "\n",
    "# Create a numpy array\n",
    "arr = np.array([[1, 2, 3], [4, 5, 6]])\n",
    "\n",
    "# Print the array attributes\n",
    "print(\"Number of array dimensions:\", arr.ndim)\n",
    "print(\"Array shape:\", arr.shape)\n",
    "print(\"Total number of elements:\", arr.size)\n",
    "print(\"Data type of elements:\", arr.dtype)\n",
    "print(\"Size of each element (in bytes):\", arr.itemsize)\n",
    "print(\"Total size of the array (in bytes):\", arr.nbytes)\n",
    "print(\"Transposed array:\\n\", arr.T)\n"
   ]
  },
  {
   "cell_type": "markdown",
   "id": "be1c76a6",
   "metadata": {},
   "source": [
    "### Indexing and Slicing with Multi-dim Numpy array"
   ]
  },
  {
   "cell_type": "code",
   "execution_count": 92,
   "id": "17a2433d",
   "metadata": {},
   "outputs": [],
   "source": [
    "import numpy as np\n",
    "\n",
    "# Create a 2D numpy array\n",
    "arr = np.array([[1, 2, 3], [4, 5, 6]])\n",
    "\n",
    "# # Access the element in the second row and third column\n",
    "# print(arr[1, 2])  # Output: 6\n",
    "\n",
    "# # Slice the first row of the array\n",
    "# print(arr[0, :])  # Output: [1 2 3]\n",
    "\n",
    "# # Slice the second column of the array\n",
    "# print(arr[:, 1])  # Output: [2 5]"
   ]
  },
  {
   "cell_type": "code",
   "execution_count": 93,
   "id": "9f85d0cc",
   "metadata": {},
   "outputs": [
    {
     "data": {
      "text/plain": [
       "array([[1, 2, 3],\n",
       "       [4, 5, 6]])"
      ]
     },
     "execution_count": 93,
     "metadata": {},
     "output_type": "execute_result"
    }
   ],
   "source": [
    "arr"
   ]
  },
  {
   "cell_type": "code",
   "execution_count": 94,
   "id": "1be325d6",
   "metadata": {},
   "outputs": [
    {
     "data": {
      "text/plain": [
       "2"
      ]
     },
     "execution_count": 94,
     "metadata": {},
     "output_type": "execute_result"
    }
   ],
   "source": [
    "arr.ndim"
   ]
  },
  {
   "cell_type": "code",
   "execution_count": 95,
   "id": "2c07f291",
   "metadata": {},
   "outputs": [
    {
     "data": {
      "text/plain": [
       "(2, 3)"
      ]
     },
     "execution_count": 95,
     "metadata": {},
     "output_type": "execute_result"
    }
   ],
   "source": [
    "arr.shape"
   ]
  },
  {
   "cell_type": "code",
   "execution_count": 96,
   "id": "dc1d0770",
   "metadata": {},
   "outputs": [
    {
     "data": {
      "text/plain": [
       "2"
      ]
     },
     "execution_count": 96,
     "metadata": {},
     "output_type": "execute_result"
    }
   ],
   "source": [
    "# Index access in multi-dim array \n",
    "arr[0, 1] #2"
   ]
  },
  {
   "cell_type": "code",
   "execution_count": 97,
   "id": "9f958206",
   "metadata": {},
   "outputs": [
    {
     "data": {
      "text/plain": [
       "array([1, 2, 3])"
      ]
     },
     "execution_count": 97,
     "metadata": {},
     "output_type": "execute_result"
    }
   ],
   "source": [
    "# Slice on multi-dim array\n",
    "arr[0, :]"
   ]
  },
  {
   "cell_type": "code",
   "execution_count": 98,
   "id": "1f0e824f",
   "metadata": {},
   "outputs": [
    {
     "data": {
      "text/plain": [
       "array([3, 6])"
      ]
     },
     "execution_count": 98,
     "metadata": {},
     "output_type": "execute_result"
    }
   ],
   "source": [
    "arr[:, 2]"
   ]
  },
  {
   "cell_type": "markdown",
   "id": "38d32cfb",
   "metadata": {},
   "source": [
    "### Broadcasting with Numpy Array"
   ]
  },
  {
   "cell_type": "code",
   "execution_count": 99,
   "id": "0670dd67",
   "metadata": {},
   "outputs": [],
   "source": [
    "arr1 = np.array([[1,2,3], [4,5,6]])"
   ]
  },
  {
   "cell_type": "code",
   "execution_count": 100,
   "id": "80134fca",
   "metadata": {},
   "outputs": [],
   "source": [
    "arr2 = np.array([10,20,30])"
   ]
  },
  {
   "cell_type": "code",
   "execution_count": 101,
   "id": "9a6df8d9",
   "metadata": {},
   "outputs": [
    {
     "data": {
      "text/plain": [
       "array([[1, 2, 3],\n",
       "       [4, 5, 6]])"
      ]
     },
     "execution_count": 101,
     "metadata": {},
     "output_type": "execute_result"
    }
   ],
   "source": [
    "arr1"
   ]
  },
  {
   "cell_type": "code",
   "execution_count": 102,
   "id": "097a1b70",
   "metadata": {},
   "outputs": [
    {
     "data": {
      "text/plain": [
       "array([10, 20, 30])"
      ]
     },
     "execution_count": 102,
     "metadata": {},
     "output_type": "execute_result"
    }
   ],
   "source": [
    "arr2"
   ]
  },
  {
   "cell_type": "code",
   "execution_count": 103,
   "id": "a3ae556f",
   "metadata": {},
   "outputs": [],
   "source": [
    "res_arr = arr1 * arr2"
   ]
  },
  {
   "cell_type": "code",
   "execution_count": 104,
   "id": "fb2b7675",
   "metadata": {},
   "outputs": [
    {
     "data": {
      "text/plain": [
       "array([[ 10,  40,  90],\n",
       "       [ 40, 100, 180]])"
      ]
     },
     "execution_count": 104,
     "metadata": {},
     "output_type": "execute_result"
    }
   ],
   "source": [
    "res_arr"
   ]
  },
  {
   "cell_type": "code",
   "execution_count": 105,
   "id": "dbf38216",
   "metadata": {},
   "outputs": [
    {
     "data": {
      "text/plain": [
       "array([100, 200, 300])"
      ]
     },
     "execution_count": 105,
     "metadata": {},
     "output_type": "execute_result"
    }
   ],
   "source": [
    "arr2 * 10"
   ]
  },
  {
   "cell_type": "markdown",
   "id": "66a30efc",
   "metadata": {},
   "source": [
    "### Looping through Numpy Array"
   ]
  },
  {
   "cell_type": "markdown",
   "id": "dd55068f",
   "metadata": {},
   "source": [
    "#### 1. By using simple for loop"
   ]
  },
  {
   "cell_type": "code",
   "execution_count": 106,
   "id": "20afc480",
   "metadata": {},
   "outputs": [],
   "source": [
    "arr1 = np.array([10,20,30,40])"
   ]
  },
  {
   "cell_type": "code",
   "execution_count": 107,
   "id": "6494c663",
   "metadata": {},
   "outputs": [
    {
     "name": "stdout",
     "output_type": "stream",
     "text": [
      "10\n",
      "20\n",
      "30\n",
      "40\n"
     ]
    }
   ],
   "source": [
    "for entry in arr1:\n",
    "    print(entry)"
   ]
  },
  {
   "cell_type": "markdown",
   "id": "9e79271e",
   "metadata": {},
   "source": [
    "#### 2. By using nditer"
   ]
  },
  {
   "cell_type": "code",
   "execution_count": 109,
   "id": "d244df21",
   "metadata": {},
   "outputs": [
    {
     "name": "stdout",
     "output_type": "stream",
     "text": [
      "10\n",
      "20\n",
      "30\n",
      "40\n"
     ]
    }
   ],
   "source": [
    "for entry in np.nditer(arr1):\n",
    "    print(entry)"
   ]
  },
  {
   "cell_type": "markdown",
   "id": "cf114549",
   "metadata": {},
   "source": [
    "#### 3. With ndenumerate()"
   ]
  },
  {
   "cell_type": "code",
   "execution_count": 111,
   "id": "83abd983",
   "metadata": {},
   "outputs": [
    {
     "name": "stdout",
     "output_type": "stream",
     "text": [
      "Index of element: (0,) and element 10\n",
      "Index of element: (1,) and element 20\n",
      "Index of element: (2,) and element 30\n",
      "Index of element: (3,) and element 40\n"
     ]
    }
   ],
   "source": [
    "for i, entry in np.ndenumerate(arr1):\n",
    "    print(f\"Index of element: {i} and element {entry}\")"
   ]
  },
  {
   "cell_type": "markdown",
   "id": "745ac16f",
   "metadata": {},
   "source": [
    "### Dot product of numpy arrays:"
   ]
  },
  {
   "cell_type": "code",
   "execution_count": 112,
   "id": "d6eab3b0",
   "metadata": {},
   "outputs": [],
   "source": [
    "import numpy as np"
   ]
  },
  {
   "cell_type": "code",
   "execution_count": 113,
   "id": "3f26aa1c",
   "metadata": {},
   "outputs": [],
   "source": [
    "arr1 = np.array([[1,2,3], [4,5,6], [7,8,9]])\n",
    "arr2 = np.array([[1,2,3], [2,3,3], [4,5,5]])"
   ]
  },
  {
   "cell_type": "code",
   "execution_count": 114,
   "id": "2c2f967e",
   "metadata": {},
   "outputs": [],
   "source": [
    "dot_arr = np.dot(arr1, arr2)"
   ]
  },
  {
   "cell_type": "code",
   "execution_count": 115,
   "id": "45673954",
   "metadata": {},
   "outputs": [
    {
     "data": {
      "text/plain": [
       "array([[17, 23, 24],\n",
       "       [38, 53, 57],\n",
       "       [59, 83, 90]])"
      ]
     },
     "execution_count": 115,
     "metadata": {},
     "output_type": "execute_result"
    }
   ],
   "source": [
    "dot_arr"
   ]
  },
  {
   "cell_type": "code",
   "execution_count": null,
   "id": "03f47bdb",
   "metadata": {},
   "outputs": [],
   "source": []
  }
 ],
 "metadata": {
  "kernelspec": {
   "display_name": "Python 3 (ipykernel)",
   "language": "python",
   "name": "python3"
  },
  "language_info": {
   "codemirror_mode": {
    "name": "ipython",
    "version": 3
   },
   "file_extension": ".py",
   "mimetype": "text/x-python",
   "name": "python",
   "nbconvert_exporter": "python",
   "pygments_lexer": "ipython3",
   "version": "3.11.3"
  }
 },
 "nbformat": 4,
 "nbformat_minor": 5
}
