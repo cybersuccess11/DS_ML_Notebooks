{
 "cells": [
  {
   "cell_type": "markdown",
   "id": "01656304",
   "metadata": {},
   "source": [
    "### Pandas Series and DF"
   ]
  },
  {
   "cell_type": "code",
   "execution_count": 31,
   "id": "09812c5a",
   "metadata": {
    "scrolled": true
   },
   "outputs": [],
   "source": [
    "#! pip install pandas"
   ]
  },
  {
   "cell_type": "code",
   "execution_count": 4,
   "id": "9afb4b07",
   "metadata": {},
   "outputs": [
    {
     "name": "stdout",
     "output_type": "stream",
     "text": [
      "0    1\n",
      "1    2\n",
      "2    3\n",
      "3    4\n",
      "4    5\n",
      "dtype: int64\n",
      "<class 'pandas.core.series.Series'>\n"
     ]
    }
   ],
   "source": [
    "import pandas as pd\n",
    "\n",
    "# Creating a Series from a list\n",
    "data = [1, 2, 3, 4, 5]\n",
    "s = pd.Series(data)\n",
    "print(s)\n",
    "print(type(s))"
   ]
  },
  {
   "cell_type": "code",
   "execution_count": 5,
   "id": "bb70842a",
   "metadata": {},
   "outputs": [
    {
     "name": "stdout",
     "output_type": "stream",
     "text": [
      "    Name  Age  Salary\n",
      "0   John   25   50000\n",
      "1   Sara   30   60000\n",
      "2  Emily   35   70000\n",
      "3  David   40   80000\n",
      "<class 'pandas.core.frame.DataFrame'>\n"
     ]
    }
   ],
   "source": [
    "import pandas as pd\n",
    "\n",
    "# Creating a DataFrame from a dictionary\n",
    "data = {'Name': ['John', 'Sara', 'Emily', 'David'],\n",
    "        'Age': [25, 30, 35, 40],\n",
    "        'Salary': [50000, 60000, 70000, 80000]}\n",
    "df = pd.DataFrame(data)\n",
    "print(df)\n",
    "print(type(df))"
   ]
  },
  {
   "cell_type": "markdown",
   "id": "6d0966f0",
   "metadata": {},
   "source": [
    "### Pandas Operations"
   ]
  },
  {
   "cell_type": "markdown",
   "id": "2ce71800",
   "metadata": {},
   "source": [
    "### 1. Indexing & Access to DF columns/rows"
   ]
  },
  {
   "cell_type": "markdown",
   "id": "4c33c116",
   "metadata": {},
   "source": [
    "#### Example Snippet 1"
   ]
  },
  {
   "cell_type": "code",
   "execution_count": 32,
   "id": "99298cb0",
   "metadata": {},
   "outputs": [
    {
     "name": "stdout",
     "output_type": "stream",
     "text": [
      "      name  age  height\n",
      "0    Alice   25     5.5\n",
      "1      Bob   30     6.0\n",
      "2  Charlie   35     5.8\n",
      "3    David   40     5.9\n",
      "0      Alice\n",
      "1        Bob\n",
      "2    Charlie\n",
      "3      David\n",
      "Name: name, dtype: object\n",
      "name      Alice\n",
      "age          25\n",
      "height      5.5\n",
      "Name: 0, dtype: object\n"
     ]
    }
   ],
   "source": [
    "# create a DataFrame with some example data\n",
    "df = pd.DataFrame({'name': ['Alice', 'Bob', 'Charlie', 'David'],\n",
    "                   'age': [25, 30, 35, 40],\n",
    "                   'height': [5.5, 6.0, 5.8, 5.9]})\n",
    "print(df)\n",
    "df['name']\n",
    "print(df.name)\n",
    "print(df.loc[0])"
   ]
  },
  {
   "cell_type": "markdown",
   "id": "222ec256",
   "metadata": {},
   "source": [
    "#### Example Snippet2"
   ]
  },
  {
   "cell_type": "code",
   "execution_count": 42,
   "id": "15f53859",
   "metadata": {
    "scrolled": true
   },
   "outputs": [
    {
     "name": "stdout",
     "output_type": "stream",
     "text": [
      "      Name  Age    Country  Salary\n",
      "0    Alice   25        USA   50000\n",
      "1      Bob   30     Canada   60000\n",
      "2  Charlie   35         UK   70000\n",
      "3    David   40  Australia   80000\n",
      "4    Emily   45        USA   90000\n",
      "Ages:\n",
      "0    25\n",
      "1    30\n",
      "2    35\n",
      "3    40\n",
      "4    45\n",
      "Name: Age, dtype: int64\n",
      "Name and Country:\n",
      "      Name    Country\n",
      "0    Alice        USA\n",
      "1      Bob     Canada\n",
      "2  Charlie         UK\n",
      "3    David  Australia\n",
      "4    Emily        USA\n",
      "Row 2:\n",
      "Name       Charlie\n",
      "Age             35\n",
      "Country         UK\n",
      "Salary       70000\n",
      "Name: 2, dtype: object\n",
      "Rows 1, 3, 4:\n",
      "    Name  Age    Country  Salary\n",
      "1    Bob   30     Canada   60000\n",
      "3  David   40  Australia   80000\n",
      "4  Emily   45        USA   90000\n",
      "Over 30:\n",
      "      Name  Age    Country  Salary\n",
      "2  Charlie   35         UK   70000\n",
      "3    David   40  Australia   80000\n",
      "4    Emily   45        USA   90000\n",
      "High Salary:\n",
      "    Name  Age    Country\n",
      "3  David   40  Australia\n",
      "4  Emily   45        USA\n"
     ]
    }
   ],
   "source": [
    "import pandas as pd\n",
    "# Create a DataFrame\n",
    "data = {'Name': ['Alice', 'Bob', 'Charlie', 'David', 'Emily'],\n",
    "        'Age': [25, 30, 35, 40, 45],\n",
    "        'Country': ['USA', 'Canada', 'UK', 'Australia', 'USA'],\n",
    "        'Salary': [50000, 60000, 70000, 80000, 90000]}\n",
    "df = pd.DataFrame(data)\n",
    "print(df)\n",
    "# Select a single column\n",
    "ages = df['Age']\n",
    "print('Ages:')\n",
    "print(ages)\n",
    "# Select multiple columns\n",
    "l = ['Name', 'Country']\n",
    "name_and_country = df[l]\n",
    "print('Name and Country:')\n",
    "print(name_and_country)\n",
    "# Select a single row by index label\n",
    "row = df.loc[2]\n",
    "print('Row 2:')\n",
    "print(row)\n",
    "# Select multiple rows by index labels\n",
    "rows = df.loc[[1, 3, 4]]\n",
    "print('Rows 1, 3, 4:')\n",
    "print(rows)\n",
    "# Select rows based on a condition\n",
    "over_30 = df[df['Age'] > 30]\n",
    "print('Over 30:')\n",
    "print(over_30)\n",
    "# Select rows and columns based on a condition\n",
    "# high_salary = df.loc[df['Salary'] > 70000]\n",
    "high_salary = df.loc[df['Salary'] > 70000, ['Name', 'Age', 'Country']]\n",
    "print('High Salary:')\n",
    "print(high_salary)\n"
   ]
  },
  {
   "cell_type": "markdown",
   "id": "33333e26",
   "metadata": {},
   "source": [
    "### 2. Filtering DF"
   ]
  },
  {
   "cell_type": "markdown",
   "id": "4ae6e6ff",
   "metadata": {},
   "source": [
    "#### Example"
   ]
  },
  {
   "cell_type": "code",
   "execution_count": 43,
   "id": "4a0365d6",
   "metadata": {},
   "outputs": [
    {
     "name": "stdout",
     "output_type": "stream",
     "text": [
      "      name  age gender\n",
      "2  Charlie   35   male\n",
      "3    David   40   male\n"
     ]
    }
   ],
   "source": [
    "import pandas as pd\n",
    "# Create a DataFrame\n",
    "df = pd.DataFrame({\n",
    "    'name': ['Alice', 'Bob', 'Charlie', 'David'],\n",
    "    'age': [25, 30, 35, 40],\n",
    "    'gender': ['female', 'male', 'male', 'male']\n",
    "})\n",
    "# Filter the DataFrame to only include rows where age is greater than 30\n",
    "filtered_df = df[df['age'] > 30]\n",
    "print(filtered_df)"
   ]
  },
  {
   "cell_type": "markdown",
   "id": "87825bef",
   "metadata": {},
   "source": [
    "### 3. Aggregate Operation"
   ]
  },
  {
   "cell_type": "markdown",
   "id": "0212d1f7",
   "metadata": {},
   "source": [
    "#### Example"
   ]
  },
  {
   "cell_type": "code",
   "execution_count": 50,
   "id": "6f8fab02",
   "metadata": {},
   "outputs": [
    {
     "name": "stdout",
     "output_type": "stream",
     "text": [
      "      name  age  salary\n",
      "0    Alice   25   50000\n",
      "1      Bob   30   60000\n",
      "2  Charlie   35   70000\n",
      "3    David   40   80000\n",
      "4    Alice   28   55000\n",
      "5      Bob   32   65000\n",
      "          age   salary\n",
      "name                  \n",
      "Alice    26.5  52500.0\n",
      "Bob      31.0  62500.0\n",
      "Charlie  35.0  70000.0\n",
      "David    40.0  80000.0\n"
     ]
    }
   ],
   "source": [
    "import pandas as pd\n",
    "\n",
    "# create a DataFrame with some example data\n",
    "df = pd.DataFrame({'name': ['Alice', 'Bob', 'Charlie', 'David', 'Alice', 'Bob'],\n",
    "                   'age': [25, 30, 35, 40, 28, 32],\n",
    "                   'salary': [50000, 60000, 70000, 80000, 55000, 65000]})\n",
    "\n",
    "print(df)\n",
    "# group the DataFrame by name and calculate the mean age and salary for each group\n",
    "grouped_df = df.groupby('name').agg({'age': 'mean', 'salary': 'mean'})\n",
    "\n",
    "print(grouped_df)"
   ]
  },
  {
   "cell_type": "markdown",
   "id": "6d3599cb",
   "metadata": {},
   "source": [
    "### 4. Addition/Modification to DF"
   ]
  },
  {
   "cell_type": "markdown",
   "id": "e7a6886a",
   "metadata": {},
   "source": [
    "#### Example"
   ]
  },
  {
   "cell_type": "code",
   "execution_count": 53,
   "id": "bcd0904a",
   "metadata": {},
   "outputs": [
    {
     "name": "stdout",
     "output_type": "stream",
     "text": [
      "      Name  Age   Salary Gender\n",
      "0    Alice   25  52500.0      F\n",
      "1      Bob   30  63000.0      M\n",
      "2  Charlie   36  73500.0      M\n"
     ]
    }
   ],
   "source": [
    "import pandas as pd\n",
    "# Create a DataFrame\n",
    "df = pd.DataFrame({\n",
    "    'Name': ['Alice', 'Bob', 'Charlie'],\n",
    "    'Age': [25, 30, 35],\n",
    "    'Salary': [50000, 60000, 70000]\n",
    "})\n",
    "# Add a new column to the DataFrame\n",
    "df['Gender'] = ['F', 'M', 'M']\n",
    "# Modify an existing column in the DataFrame\n",
    "df['Salary'] = df['Salary'] * 1.05\n",
    "\n",
    "# Add a new row to the DataFrame\n",
    "# new_row = {'Name': 'David', 'Age': 40, 'Salary': 80000, 'Gender': 'M'}\n",
    "# df = df.append(new_row, ignore_index=True)\n",
    "\n",
    "# Modify a row in the DataFrame\n",
    "df.loc[df['Name'] == 'Charlie', 'Age'] = 36\n",
    "print(df)"
   ]
  },
  {
   "cell_type": "markdown",
   "id": "608715be",
   "metadata": {},
   "source": [
    "### 5. Merging Data"
   ]
  },
  {
   "cell_type": "markdown",
   "id": "8debc5a7",
   "metadata": {},
   "source": [
    "#### Example 1: Merge DFs"
   ]
  },
  {
   "cell_type": "code",
   "execution_count": 1,
   "id": "15520065",
   "metadata": {},
   "outputs": [
    {
     "name": "stdout",
     "output_type": "stream",
     "text": [
      "  employee_id     name department_id\n",
      "0           1    Alice           101\n",
      "1           2      Bob           102\n",
      "2           3  Charlie           101\n",
      "3           4    David           103\n",
      "  department_id department_name\n",
      "0           101       Marketing\n",
      "1           102           Sales\n",
      "2           103         Finance\n"
     ]
    },
    {
     "data": {
      "text/html": [
       "<div>\n",
       "<style scoped>\n",
       "    .dataframe tbody tr th:only-of-type {\n",
       "        vertical-align: middle;\n",
       "    }\n",
       "\n",
       "    .dataframe tbody tr th {\n",
       "        vertical-align: top;\n",
       "    }\n",
       "\n",
       "    .dataframe thead th {\n",
       "        text-align: right;\n",
       "    }\n",
       "</style>\n",
       "<table border=\"1\" class=\"dataframe\">\n",
       "  <thead>\n",
       "    <tr style=\"text-align: right;\">\n",
       "      <th></th>\n",
       "      <th>employee_id</th>\n",
       "      <th>name</th>\n",
       "      <th>department_id</th>\n",
       "      <th>department_name</th>\n",
       "    </tr>\n",
       "  </thead>\n",
       "  <tbody>\n",
       "    <tr>\n",
       "      <th>0</th>\n",
       "      <td>1</td>\n",
       "      <td>Alice</td>\n",
       "      <td>101</td>\n",
       "      <td>Marketing</td>\n",
       "    </tr>\n",
       "    <tr>\n",
       "      <th>1</th>\n",
       "      <td>3</td>\n",
       "      <td>Charlie</td>\n",
       "      <td>101</td>\n",
       "      <td>Marketing</td>\n",
       "    </tr>\n",
       "    <tr>\n",
       "      <th>2</th>\n",
       "      <td>2</td>\n",
       "      <td>Bob</td>\n",
       "      <td>102</td>\n",
       "      <td>Sales</td>\n",
       "    </tr>\n",
       "    <tr>\n",
       "      <th>3</th>\n",
       "      <td>4</td>\n",
       "      <td>David</td>\n",
       "      <td>103</td>\n",
       "      <td>Finance</td>\n",
       "    </tr>\n",
       "  </tbody>\n",
       "</table>\n",
       "</div>"
      ],
      "text/plain": [
       "  employee_id     name department_id department_name\n",
       "0           1    Alice           101       Marketing\n",
       "1           3  Charlie           101       Marketing\n",
       "2           2      Bob           102           Sales\n",
       "3           4    David           103         Finance"
      ]
     },
     "execution_count": 1,
     "metadata": {},
     "output_type": "execute_result"
    }
   ],
   "source": [
    "import pandas as pd\n",
    "\n",
    "# Create the first DataFrame\n",
    "df1 = pd.DataFrame({\n",
    "    'employee_id': ['1', '2', '3', '4'],\n",
    "    'name': ['Alice', 'Bob', 'Charlie', 'David'],\n",
    "    'department_id': ['101', '102', '101', '103']\n",
    "})\n",
    "\n",
    "# Create the second DataFrame\n",
    "df2 = pd.DataFrame({\n",
    "    'department_id': ['101', '102', '103'],\n",
    "    'department_name': ['Marketing', 'Sales', 'Finance']\n",
    "})\n",
    "\n",
    "print(df1)\n",
    "print(df2)\n",
    "# Merge the two DataFrames on the department_id column\n",
    "merged_df = pd.merge(df1, df2, on='department_id')\n",
    "\n",
    "#print(merged_df)\n",
    "merged_df.head()"
   ]
  },
  {
   "cell_type": "markdown",
   "id": "10658e90",
   "metadata": {},
   "source": [
    "#### Example: Concat DFs w/o axis"
   ]
  },
  {
   "cell_type": "code",
   "execution_count": 57,
   "id": "1743b298",
   "metadata": {},
   "outputs": [
    {
     "name": "stdout",
     "output_type": "stream",
     "text": [
      "    A   B   C   D\n",
      "0  A0  B0  C0  D0\n",
      "1  A1  B1  C1  D1\n",
      "2  A2  B2  C2  D2\n",
      "3  A3  B3  C3  D3\n",
      "0  A4  B4  C4  D4\n",
      "1  A5  B5  C5  D5\n",
      "2  A6  B6  C6  D6\n",
      "3  A7  B7  C7  D7\n"
     ]
    }
   ],
   "source": [
    "import pandas as pd\n",
    "\n",
    "# create first dataframe\n",
    "df1 = pd.DataFrame({\n",
    "    'A': ['A0', 'A1', 'A2', 'A3'],\n",
    "    'B': ['B0', 'B1', 'B2', 'B3'],\n",
    "    'C': ['C0', 'C1', 'C2', 'C3'],\n",
    "    'D': ['D0', 'D1', 'D2', 'D3']\n",
    "})\n",
    "\n",
    "# create second dataframe\n",
    "df2 = pd.DataFrame({\n",
    "    'A': ['A4', 'A5', 'A6', 'A7'],\n",
    "    'B': ['B4', 'B5', 'B6', 'B7'],\n",
    "    'C': ['C4', 'C5', 'C6', 'C7'],\n",
    "    'D': ['D4', 'D5', 'D6', 'D7']\n",
    "})\n",
    "\n",
    "# concatenate the dataframes vertically\n",
    "# result = pd.concat([df1, df2], axis=0, ignore_index=True)\n",
    "result = pd.concat([df1, df2])\n",
    "\n",
    "# print the result\n",
    "print(result)"
   ]
  },
  {
   "cell_type": "markdown",
   "id": "69fa898e",
   "metadata": {},
   "source": [
    "#### Example: Concat DFs with axis"
   ]
  },
  {
   "cell_type": "code",
   "execution_count": 58,
   "id": "d56157c0",
   "metadata": {},
   "outputs": [
    {
     "name": "stdout",
     "output_type": "stream",
     "text": [
      "   A  B\n",
      "0  1  4\n",
      "1  2  5\n",
      "2  3  6\n",
      "   C   D\n",
      "0  7  10\n",
      "1  8  11\n",
      "2  9  12\n"
     ]
    }
   ],
   "source": [
    "import pandas as pd\n",
    "\n",
    "# create two dataframes\n",
    "df1 = pd.DataFrame({'A': [1, 2, 3], 'B': [4, 5, 6]})\n",
    "df2 = pd.DataFrame({'C': [7, 8, 9], 'D': [10, 11, 12]})\n",
    "print(df1)\n",
    "print(df2)"
   ]
  },
  {
   "cell_type": "code",
   "execution_count": 59,
   "id": "b5c48271",
   "metadata": {},
   "outputs": [
    {
     "name": "stdout",
     "output_type": "stream",
     "text": [
      "     A    B    C     D\n",
      "0  1.0  4.0  NaN   NaN\n",
      "1  2.0  5.0  NaN   NaN\n",
      "2  3.0  6.0  NaN   NaN\n",
      "0  NaN  NaN  7.0  10.0\n",
      "1  NaN  NaN  8.0  11.0\n",
      "2  NaN  NaN  9.0  12.0\n"
     ]
    }
   ],
   "source": [
    "# concatenate along the rows (axis=0)\n",
    "df_row = pd.concat([df1, df2], axis=0)\n",
    "print(df_row)"
   ]
  },
  {
   "cell_type": "code",
   "execution_count": 60,
   "id": "75f03977",
   "metadata": {},
   "outputs": [
    {
     "name": "stdout",
     "output_type": "stream",
     "text": [
      "   A  B  C   D\n",
      "0  1  4  7  10\n",
      "1  2  5  8  11\n",
      "2  3  6  9  12\n"
     ]
    }
   ],
   "source": [
    "# concatenate along the columns (axis=1)\n",
    "df_col = pd.concat([df1, df2], axis=1)\n",
    "print(df_col)"
   ]
  },
  {
   "cell_type": "markdown",
   "id": "c26d8091",
   "metadata": {},
   "source": [
    "### Handling Missing Values"
   ]
  },
  {
   "cell_type": "markdown",
   "id": "05a295c0",
   "metadata": {},
   "source": [
    "#### Example"
   ]
  },
  {
   "cell_type": "code",
   "execution_count": 61,
   "id": "facfac1a",
   "metadata": {},
   "outputs": [
    {
     "name": "stdout",
     "output_type": "stream",
     "text": [
      "     A    B     C\n",
      "0  1.0  5.0   9.0\n",
      "1  2.0  NaN  10.0\n",
      "2  NaN  7.0  11.0\n",
      "3  4.0  8.0   NaN\n",
      "       A      B      C\n",
      "0  False  False  False\n",
      "1  False   True  False\n",
      "2   True  False  False\n",
      "3  False  False   True\n"
     ]
    }
   ],
   "source": [
    "import pandas as pd\n",
    "import numpy as np\n",
    "\n",
    "# create a DataFrame with some missing values\n",
    "df = pd.DataFrame({'A': [1, 2, np.nan, 4],\n",
    "                   'B': [5, np.nan, 7, 8],\n",
    "                   'C': [9, 10, 11, np.nan]})\n",
    "\n",
    "print(df)\n",
    "\n",
    "# check which values are missing in the DataFrame\n",
    "missing_values = df.isna()\n",
    "\n",
    "# print the resulting boolean DataFrame\n",
    "print(missing_values)\n"
   ]
  },
  {
   "cell_type": "markdown",
   "id": "ea249595",
   "metadata": {},
   "source": [
    "### Ways to Handle Missing Values"
   ]
  },
  {
   "cell_type": "code",
   "execution_count": null,
   "id": "adf01913",
   "metadata": {},
   "outputs": [],
   "source": [
    "#! pip install scikit-learn"
   ]
  },
  {
   "cell_type": "code",
   "execution_count": 9,
   "id": "b76b02f0",
   "metadata": {},
   "outputs": [],
   "source": [
    "#import scikit-learn as sklearn"
   ]
  },
  {
   "cell_type": "code",
   "execution_count": 11,
   "id": "41a9923f",
   "metadata": {},
   "outputs": [
    {
     "name": "stdout",
     "output_type": "stream",
     "text": [
      "     A    B   C\n",
      "0  1.0  5.0   9\n",
      "1  2.0  NaN  10\n",
      "2  NaN  NaN  11\n",
      "3  4.0  8.0  12\n"
     ]
    },
    {
     "data": {
      "text/html": [
       "<div>\n",
       "<style scoped>\n",
       "    .dataframe tbody tr th:only-of-type {\n",
       "        vertical-align: middle;\n",
       "    }\n",
       "\n",
       "    .dataframe tbody tr th {\n",
       "        vertical-align: top;\n",
       "    }\n",
       "\n",
       "    .dataframe thead th {\n",
       "        text-align: right;\n",
       "    }\n",
       "</style>\n",
       "<table border=\"1\" class=\"dataframe\">\n",
       "  <thead>\n",
       "    <tr style=\"text-align: right;\">\n",
       "      <th></th>\n",
       "      <th>A</th>\n",
       "      <th>B</th>\n",
       "      <th>C</th>\n",
       "    </tr>\n",
       "  </thead>\n",
       "  <tbody>\n",
       "    <tr>\n",
       "      <th>0</th>\n",
       "      <td>1.0</td>\n",
       "      <td>5.0</td>\n",
       "      <td>9</td>\n",
       "    </tr>\n",
       "    <tr>\n",
       "      <th>3</th>\n",
       "      <td>4.0</td>\n",
       "      <td>8.0</td>\n",
       "      <td>12</td>\n",
       "    </tr>\n",
       "  </tbody>\n",
       "</table>\n",
       "</div>"
      ],
      "text/plain": [
       "     A    B   C\n",
       "0  1.0  5.0   9\n",
       "3  4.0  8.0  12"
      ]
     },
     "execution_count": 11,
     "metadata": {},
     "output_type": "execute_result"
    }
   ],
   "source": [
    "import pandas as pd\n",
    "import numpy as np\n",
    "\n",
    "# create a DataFrame with missing values\n",
    "df = pd.DataFrame({'A': [1, 2, np.nan, 4],\n",
    "                   'B': [5, np.nan, np.nan, 8],\n",
    "                   'C': [9, 10, 11, 12]})\n",
    "\n",
    "print(df)\n",
    "#drop rows with missing values\n",
    "df = df.dropna(axis=0) #df.dropna()\n",
    "\n",
    "#drop columns with missing values\n",
    "df = df.dropna(axis=1)\n",
    "\n",
    "#fill missing values with the mean of their respective columns\n",
    "df = df.fillna(df.mean())\n",
    "df.head()\n",
    "\n",
    "# interpolate missing values\n",
    "df = df.interpolate()\n",
    "df.head()\n",
    "\n",
    "# impute missing values using KNN imputation\n",
    "# from sklearn.impute import KNNImputer\n",
    "# imputer = KNNImputer(n_neighbors=2)\n",
    "# df = pd.DataFrame(imputer.fit_transform(df), columns=df.columns)\n",
    "# print(df)"
   ]
  },
  {
   "cell_type": "markdown",
   "id": "2e7f9de4",
   "metadata": {},
   "source": [
    "### Descriptive Stats with Pandas"
   ]
  },
  {
   "cell_type": "markdown",
   "id": "34a4a7d2",
   "metadata": {},
   "source": [
    "#### Summary"
   ]
  },
  {
   "cell_type": "code",
   "execution_count": 12,
   "id": "4b3dcbaa",
   "metadata": {},
   "outputs": [],
   "source": [
    "import pandas as pd\n",
    "df = pd.read_csv('desc_stats.csv')"
   ]
  },
  {
   "cell_type": "code",
   "execution_count": 13,
   "id": "238fbf18",
   "metadata": {},
   "outputs": [
    {
     "data": {
      "text/html": [
       "<div>\n",
       "<style scoped>\n",
       "    .dataframe tbody tr th:only-of-type {\n",
       "        vertical-align: middle;\n",
       "    }\n",
       "\n",
       "    .dataframe tbody tr th {\n",
       "        vertical-align: top;\n",
       "    }\n",
       "\n",
       "    .dataframe thead th {\n",
       "        text-align: right;\n",
       "    }\n",
       "</style>\n",
       "<table border=\"1\" class=\"dataframe\">\n",
       "  <thead>\n",
       "    <tr style=\"text-align: right;\">\n",
       "      <th></th>\n",
       "      <th>Name</th>\n",
       "      <th>Gender</th>\n",
       "      <th>Age</th>\n",
       "      <th>Height</th>\n",
       "      <th>Weight</th>\n",
       "    </tr>\n",
       "  </thead>\n",
       "  <tbody>\n",
       "    <tr>\n",
       "      <th>0</th>\n",
       "      <td>Alice</td>\n",
       "      <td>Female</td>\n",
       "      <td>25</td>\n",
       "      <td>170</td>\n",
       "      <td>65</td>\n",
       "    </tr>\n",
       "    <tr>\n",
       "      <th>1</th>\n",
       "      <td>Bob</td>\n",
       "      <td>Male</td>\n",
       "      <td>30</td>\n",
       "      <td>175</td>\n",
       "      <td>70</td>\n",
       "    </tr>\n",
       "    <tr>\n",
       "      <th>2</th>\n",
       "      <td>Charlie</td>\n",
       "      <td>Male</td>\n",
       "      <td>40</td>\n",
       "      <td>180</td>\n",
       "      <td>80</td>\n",
       "    </tr>\n",
       "    <tr>\n",
       "      <th>3</th>\n",
       "      <td>Dave</td>\n",
       "      <td>Male</td>\n",
       "      <td>35</td>\n",
       "      <td>185</td>\n",
       "      <td>90</td>\n",
       "    </tr>\n",
       "    <tr>\n",
       "      <th>4</th>\n",
       "      <td>Eve</td>\n",
       "      <td>Female</td>\n",
       "      <td>28</td>\n",
       "      <td>165</td>\n",
       "      <td>55</td>\n",
       "    </tr>\n",
       "  </tbody>\n",
       "</table>\n",
       "</div>"
      ],
      "text/plain": [
       "      Name  Gender  Age  Height  Weight\n",
       "0    Alice  Female   25     170      65\n",
       "1      Bob    Male   30     175      70\n",
       "2  Charlie    Male   40     180      80\n",
       "3     Dave    Male   35     185      90\n",
       "4      Eve  Female   28     165      55"
      ]
     },
     "execution_count": 13,
     "metadata": {},
     "output_type": "execute_result"
    }
   ],
   "source": [
    "df"
   ]
  },
  {
   "cell_type": "code",
   "execution_count": 14,
   "id": "ce46d8a3",
   "metadata": {},
   "outputs": [],
   "source": [
    "summary = df.describe()"
   ]
  },
  {
   "cell_type": "code",
   "execution_count": 15,
   "id": "fac87104",
   "metadata": {},
   "outputs": [
    {
     "data": {
      "text/html": [
       "<div>\n",
       "<style scoped>\n",
       "    .dataframe tbody tr th:only-of-type {\n",
       "        vertical-align: middle;\n",
       "    }\n",
       "\n",
       "    .dataframe tbody tr th {\n",
       "        vertical-align: top;\n",
       "    }\n",
       "\n",
       "    .dataframe thead th {\n",
       "        text-align: right;\n",
       "    }\n",
       "</style>\n",
       "<table border=\"1\" class=\"dataframe\">\n",
       "  <thead>\n",
       "    <tr style=\"text-align: right;\">\n",
       "      <th></th>\n",
       "      <th>Age</th>\n",
       "      <th>Height</th>\n",
       "      <th>Weight</th>\n",
       "    </tr>\n",
       "  </thead>\n",
       "  <tbody>\n",
       "    <tr>\n",
       "      <th>count</th>\n",
       "      <td>5.00000</td>\n",
       "      <td>5.000000</td>\n",
       "      <td>5.000000</td>\n",
       "    </tr>\n",
       "    <tr>\n",
       "      <th>mean</th>\n",
       "      <td>31.60000</td>\n",
       "      <td>175.000000</td>\n",
       "      <td>72.000000</td>\n",
       "    </tr>\n",
       "    <tr>\n",
       "      <th>std</th>\n",
       "      <td>5.94138</td>\n",
       "      <td>7.905694</td>\n",
       "      <td>13.509256</td>\n",
       "    </tr>\n",
       "    <tr>\n",
       "      <th>min</th>\n",
       "      <td>25.00000</td>\n",
       "      <td>165.000000</td>\n",
       "      <td>55.000000</td>\n",
       "    </tr>\n",
       "    <tr>\n",
       "      <th>25%</th>\n",
       "      <td>28.00000</td>\n",
       "      <td>170.000000</td>\n",
       "      <td>65.000000</td>\n",
       "    </tr>\n",
       "    <tr>\n",
       "      <th>50%</th>\n",
       "      <td>30.00000</td>\n",
       "      <td>175.000000</td>\n",
       "      <td>70.000000</td>\n",
       "    </tr>\n",
       "    <tr>\n",
       "      <th>75%</th>\n",
       "      <td>35.00000</td>\n",
       "      <td>180.000000</td>\n",
       "      <td>80.000000</td>\n",
       "    </tr>\n",
       "    <tr>\n",
       "      <th>max</th>\n",
       "      <td>40.00000</td>\n",
       "      <td>185.000000</td>\n",
       "      <td>90.000000</td>\n",
       "    </tr>\n",
       "  </tbody>\n",
       "</table>\n",
       "</div>"
      ],
      "text/plain": [
       "            Age      Height     Weight\n",
       "count   5.00000    5.000000   5.000000\n",
       "mean   31.60000  175.000000  72.000000\n",
       "std     5.94138    7.905694  13.509256\n",
       "min    25.00000  165.000000  55.000000\n",
       "25%    28.00000  170.000000  65.000000\n",
       "50%    30.00000  175.000000  70.000000\n",
       "75%    35.00000  180.000000  80.000000\n",
       "max    40.00000  185.000000  90.000000"
      ]
     },
     "execution_count": 15,
     "metadata": {},
     "output_type": "execute_result"
    }
   ],
   "source": [
    "summary"
   ]
  },
  {
   "cell_type": "markdown",
   "id": "a4705ee1",
   "metadata": {},
   "source": [
    "#### Value Count"
   ]
  },
  {
   "cell_type": "code",
   "execution_count": 16,
   "id": "6e046fbd",
   "metadata": {},
   "outputs": [],
   "source": [
    "counts = df['Gender'].value_counts()"
   ]
  },
  {
   "cell_type": "code",
   "execution_count": 17,
   "id": "4e97de57",
   "metadata": {},
   "outputs": [
    {
     "data": {
      "text/plain": [
       "Gender\n",
       "Male      3\n",
       "Female    2\n",
       "Name: count, dtype: int64"
      ]
     },
     "execution_count": 17,
     "metadata": {},
     "output_type": "execute_result"
    }
   ],
   "source": [
    "counts"
   ]
  },
  {
   "cell_type": "markdown",
   "id": "3b603eeb",
   "metadata": {},
   "source": [
    "#### Correlation"
   ]
  },
  {
   "cell_type": "code",
   "execution_count": 19,
   "id": "3ce7aabb",
   "metadata": {},
   "outputs": [],
   "source": [
    "d = {\n",
    "    \"A\": [1,2,3],\n",
    "    \"B\": [4,5,6],\n",
    "    \"C\": [2,2,4]\n",
    "}"
   ]
  },
  {
   "cell_type": "code",
   "execution_count": 20,
   "id": "b01813a5",
   "metadata": {},
   "outputs": [],
   "source": [
    "df = pd.DataFrame(d)"
   ]
  },
  {
   "cell_type": "code",
   "execution_count": 21,
   "id": "e3ab7111",
   "metadata": {},
   "outputs": [
    {
     "data": {
      "text/html": [
       "<div>\n",
       "<style scoped>\n",
       "    .dataframe tbody tr th:only-of-type {\n",
       "        vertical-align: middle;\n",
       "    }\n",
       "\n",
       "    .dataframe tbody tr th {\n",
       "        vertical-align: top;\n",
       "    }\n",
       "\n",
       "    .dataframe thead th {\n",
       "        text-align: right;\n",
       "    }\n",
       "</style>\n",
       "<table border=\"1\" class=\"dataframe\">\n",
       "  <thead>\n",
       "    <tr style=\"text-align: right;\">\n",
       "      <th></th>\n",
       "      <th>A</th>\n",
       "      <th>B</th>\n",
       "      <th>C</th>\n",
       "    </tr>\n",
       "  </thead>\n",
       "  <tbody>\n",
       "    <tr>\n",
       "      <th>0</th>\n",
       "      <td>1</td>\n",
       "      <td>4</td>\n",
       "      <td>2</td>\n",
       "    </tr>\n",
       "    <tr>\n",
       "      <th>1</th>\n",
       "      <td>2</td>\n",
       "      <td>5</td>\n",
       "      <td>2</td>\n",
       "    </tr>\n",
       "    <tr>\n",
       "      <th>2</th>\n",
       "      <td>3</td>\n",
       "      <td>6</td>\n",
       "      <td>4</td>\n",
       "    </tr>\n",
       "  </tbody>\n",
       "</table>\n",
       "</div>"
      ],
      "text/plain": [
       "   A  B  C\n",
       "0  1  4  2\n",
       "1  2  5  2\n",
       "2  3  6  4"
      ]
     },
     "execution_count": 21,
     "metadata": {},
     "output_type": "execute_result"
    }
   ],
   "source": [
    "df"
   ]
  },
  {
   "cell_type": "code",
   "execution_count": 22,
   "id": "667ddabd",
   "metadata": {},
   "outputs": [
    {
     "data": {
      "text/html": [
       "<div>\n",
       "<style scoped>\n",
       "    .dataframe tbody tr th:only-of-type {\n",
       "        vertical-align: middle;\n",
       "    }\n",
       "\n",
       "    .dataframe tbody tr th {\n",
       "        vertical-align: top;\n",
       "    }\n",
       "\n",
       "    .dataframe thead th {\n",
       "        text-align: right;\n",
       "    }\n",
       "</style>\n",
       "<table border=\"1\" class=\"dataframe\">\n",
       "  <thead>\n",
       "    <tr style=\"text-align: right;\">\n",
       "      <th></th>\n",
       "      <th>A</th>\n",
       "      <th>B</th>\n",
       "      <th>C</th>\n",
       "    </tr>\n",
       "  </thead>\n",
       "  <tbody>\n",
       "    <tr>\n",
       "      <th>A</th>\n",
       "      <td>1.000000</td>\n",
       "      <td>1.000000</td>\n",
       "      <td>0.866025</td>\n",
       "    </tr>\n",
       "    <tr>\n",
       "      <th>B</th>\n",
       "      <td>1.000000</td>\n",
       "      <td>1.000000</td>\n",
       "      <td>0.866025</td>\n",
       "    </tr>\n",
       "    <tr>\n",
       "      <th>C</th>\n",
       "      <td>0.866025</td>\n",
       "      <td>0.866025</td>\n",
       "      <td>1.000000</td>\n",
       "    </tr>\n",
       "  </tbody>\n",
       "</table>\n",
       "</div>"
      ],
      "text/plain": [
       "          A         B         C\n",
       "A  1.000000  1.000000  0.866025\n",
       "B  1.000000  1.000000  0.866025\n",
       "C  0.866025  0.866025  1.000000"
      ]
     },
     "execution_count": 22,
     "metadata": {},
     "output_type": "execute_result"
    }
   ],
   "source": [
    "df.corr()"
   ]
  },
  {
   "cell_type": "markdown",
   "id": "0f91b7c3",
   "metadata": {},
   "source": [
    "#### Grouping"
   ]
  },
  {
   "cell_type": "code",
   "execution_count": 27,
   "id": "ff7e6a10",
   "metadata": {},
   "outputs": [],
   "source": [
    "import pandas as pd\n",
    "df = pd.read_csv('desc_stats.csv')\n",
    "# grouped = df.groupby('Gender').mean()\n",
    "# print(grouped)"
   ]
  },
  {
   "cell_type": "code",
   "execution_count": 28,
   "id": "ac22f8cb",
   "metadata": {},
   "outputs": [
    {
     "data": {
      "text/html": [
       "<div>\n",
       "<style scoped>\n",
       "    .dataframe tbody tr th:only-of-type {\n",
       "        vertical-align: middle;\n",
       "    }\n",
       "\n",
       "    .dataframe tbody tr th {\n",
       "        vertical-align: top;\n",
       "    }\n",
       "\n",
       "    .dataframe thead th {\n",
       "        text-align: right;\n",
       "    }\n",
       "</style>\n",
       "<table border=\"1\" class=\"dataframe\">\n",
       "  <thead>\n",
       "    <tr style=\"text-align: right;\">\n",
       "      <th></th>\n",
       "      <th>Name</th>\n",
       "      <th>Gender</th>\n",
       "      <th>Age</th>\n",
       "      <th>Height</th>\n",
       "      <th>Weight</th>\n",
       "    </tr>\n",
       "  </thead>\n",
       "  <tbody>\n",
       "    <tr>\n",
       "      <th>0</th>\n",
       "      <td>Alice</td>\n",
       "      <td>Female</td>\n",
       "      <td>25</td>\n",
       "      <td>170</td>\n",
       "      <td>65</td>\n",
       "    </tr>\n",
       "    <tr>\n",
       "      <th>1</th>\n",
       "      <td>Bob</td>\n",
       "      <td>Male</td>\n",
       "      <td>30</td>\n",
       "      <td>175</td>\n",
       "      <td>70</td>\n",
       "    </tr>\n",
       "    <tr>\n",
       "      <th>2</th>\n",
       "      <td>Charlie</td>\n",
       "      <td>Male</td>\n",
       "      <td>40</td>\n",
       "      <td>180</td>\n",
       "      <td>80</td>\n",
       "    </tr>\n",
       "    <tr>\n",
       "      <th>3</th>\n",
       "      <td>Dave</td>\n",
       "      <td>Male</td>\n",
       "      <td>35</td>\n",
       "      <td>185</td>\n",
       "      <td>90</td>\n",
       "    </tr>\n",
       "    <tr>\n",
       "      <th>4</th>\n",
       "      <td>Eve</td>\n",
       "      <td>Female</td>\n",
       "      <td>28</td>\n",
       "      <td>165</td>\n",
       "      <td>55</td>\n",
       "    </tr>\n",
       "  </tbody>\n",
       "</table>\n",
       "</div>"
      ],
      "text/plain": [
       "      Name  Gender  Age  Height  Weight\n",
       "0    Alice  Female   25     170      65\n",
       "1      Bob    Male   30     175      70\n",
       "2  Charlie    Male   40     180      80\n",
       "3     Dave    Male   35     185      90\n",
       "4      Eve  Female   28     165      55"
      ]
     },
     "execution_count": 28,
     "metadata": {},
     "output_type": "execute_result"
    }
   ],
   "source": [
    "df"
   ]
  },
  {
   "cell_type": "code",
   "execution_count": 32,
   "id": "47fa25e3",
   "metadata": {},
   "outputs": [
    {
     "data": {
      "text/html": [
       "<div>\n",
       "<style scoped>\n",
       "    .dataframe tbody tr th:only-of-type {\n",
       "        vertical-align: middle;\n",
       "    }\n",
       "\n",
       "    .dataframe tbody tr th {\n",
       "        vertical-align: top;\n",
       "    }\n",
       "\n",
       "    .dataframe thead tr th {\n",
       "        text-align: left;\n",
       "    }\n",
       "\n",
       "    .dataframe thead tr:last-of-type th {\n",
       "        text-align: right;\n",
       "    }\n",
       "</style>\n",
       "<table border=\"1\" class=\"dataframe\">\n",
       "  <thead>\n",
       "    <tr>\n",
       "      <th></th>\n",
       "      <th>Age</th>\n",
       "    </tr>\n",
       "    <tr>\n",
       "      <th></th>\n",
       "      <th>mean</th>\n",
       "    </tr>\n",
       "    <tr>\n",
       "      <th>Gender</th>\n",
       "      <th></th>\n",
       "    </tr>\n",
       "  </thead>\n",
       "  <tbody>\n",
       "    <tr>\n",
       "      <th>Female</th>\n",
       "      <td>26.5</td>\n",
       "    </tr>\n",
       "    <tr>\n",
       "      <th>Male</th>\n",
       "      <td>35.0</td>\n",
       "    </tr>\n",
       "  </tbody>\n",
       "</table>\n",
       "</div>"
      ],
      "text/plain": [
       "         Age\n",
       "        mean\n",
       "Gender      \n",
       "Female  26.5\n",
       "Male    35.0"
      ]
     },
     "execution_count": 32,
     "metadata": {},
     "output_type": "execute_result"
    }
   ],
   "source": [
    "df.groupby('Gender').agg({'Age': ['mean']})"
   ]
  },
  {
   "cell_type": "code",
   "execution_count": 31,
   "id": "b679db53",
   "metadata": {},
   "outputs": [
    {
     "name": "stdout",
     "output_type": "stream",
     "text": [
      "         Age      Height  Weight\n",
      "mean    31.6         NaN     NaN\n",
      "median  30.0         NaN     NaN\n",
      "std      NaN    7.905694     NaN\n",
      "max      NaN  185.000000     NaN\n",
      "sum      NaN         NaN   360.0\n"
     ]
    }
   ],
   "source": [
    "agg = df.agg({'Age': ['mean', 'median'], 'Height': ['std', 'max'], 'Weight': 'sum'})\n",
    "print(agg)"
   ]
  },
  {
   "cell_type": "markdown",
   "id": "23d4f123",
   "metadata": {},
   "source": [
    "### Pivot in Pandas"
   ]
  },
  {
   "cell_type": "code",
   "execution_count": 35,
   "id": "1dd5e99b",
   "metadata": {},
   "outputs": [
    {
     "name": "stdout",
     "output_type": "stream",
     "text": [
      "  Month Product  Sales\n",
      "0   Jan       A    100\n",
      "1   Jan       B    200\n",
      "2   Feb       A    150\n",
      "3   Feb       B    250\n",
      "4   Mar       A    300\n",
      "5   Mar       B    400\n",
      "Product    A    B\n",
      "Month            \n",
      "Feb      150  250\n",
      "Jan      100  200\n",
      "Mar      300  400\n"
     ]
    }
   ],
   "source": [
    "import pandas as pd\n",
    "\n",
    "# Create a DataFrame with sales data\n",
    "df = pd.DataFrame({\n",
    "    'Month': ['Jan', 'Jan', 'Feb', 'Feb', 'Mar', 'Mar'],\n",
    "    'Product': ['A', 'B', 'A', 'B', 'A', 'B'],\n",
    "    'Sales': [100, 200, 150, 250, 300, 400]\n",
    "})\n",
    "\n",
    "print(df)\n",
    "# Pivot the DataFrame\n",
    "pivot_df = df.pivot(index='Month', columns='Product', values='Sales')\n",
    "\n",
    "print(pivot_df)"
   ]
  },
  {
   "cell_type": "code",
   "execution_count": null,
   "id": "6f3807a6",
   "metadata": {},
   "outputs": [],
   "source": []
  }
 ],
 "metadata": {
  "kernelspec": {
   "display_name": "Python 3 (ipykernel)",
   "language": "python",
   "name": "python3"
  },
  "language_info": {
   "codemirror_mode": {
    "name": "ipython",
    "version": 3
   },
   "file_extension": ".py",
   "mimetype": "text/x-python",
   "name": "python",
   "nbconvert_exporter": "python",
   "pygments_lexer": "ipython3",
   "version": "3.11.3"
  }
 },
 "nbformat": 4,
 "nbformat_minor": 5
}
