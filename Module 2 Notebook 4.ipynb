{
 "cells": [
  {
   "cell_type": "code",
   "execution_count": 1,
   "id": "84f99409",
   "metadata": {},
   "outputs": [],
   "source": [
    "import numpy as np"
   ]
  },
  {
   "cell_type": "code",
   "execution_count": 2,
   "id": "8469ed21",
   "metadata": {},
   "outputs": [],
   "source": [
    "arr = np.array([[1,2,3], [4,5,6]])"
   ]
  },
  {
   "cell_type": "code",
   "execution_count": 3,
   "id": "05f59417",
   "metadata": {},
   "outputs": [
    {
     "data": {
      "text/plain": [
       "array([[1, 2, 3],\n",
       "       [4, 5, 6]])"
      ]
     },
     "execution_count": 3,
     "metadata": {},
     "output_type": "execute_result"
    }
   ],
   "source": [
    "arr"
   ]
  },
  {
   "cell_type": "code",
   "execution_count": 4,
   "id": "1955f14c",
   "metadata": {},
   "outputs": [],
   "source": [
    "row_sums = np.sum(arr, axis=1)"
   ]
  },
  {
   "cell_type": "code",
   "execution_count": 5,
   "id": "f75176d9",
   "metadata": {},
   "outputs": [
    {
     "data": {
      "text/plain": [
       "array([ 6, 15])"
      ]
     },
     "execution_count": 5,
     "metadata": {},
     "output_type": "execute_result"
    }
   ],
   "source": [
    "row_sums"
   ]
  },
  {
   "cell_type": "markdown",
   "id": "1ae8910b",
   "metadata": {},
   "source": [
    "#### Binary Condition"
   ]
  },
  {
   "cell_type": "code",
   "execution_count": 6,
   "id": "8ef448dc",
   "metadata": {},
   "outputs": [],
   "source": [
    "a = np.array([1,2,3,4,5])\n",
    "b = a > 3"
   ]
  },
  {
   "cell_type": "code",
   "execution_count": 7,
   "id": "2e6fc043",
   "metadata": {},
   "outputs": [
    {
     "data": {
      "text/plain": [
       "array([False, False, False,  True,  True])"
      ]
     },
     "execution_count": 7,
     "metadata": {},
     "output_type": "execute_result"
    }
   ],
   "source": [
    "b"
   ]
  },
  {
   "cell_type": "markdown",
   "id": "ae35990b",
   "metadata": {},
   "source": [
    "#### View"
   ]
  },
  {
   "cell_type": "code",
   "execution_count": 15,
   "id": "2930d274",
   "metadata": {},
   "outputs": [
    {
     "name": "stdout",
     "output_type": "stream",
     "text": [
      "[4 3]\n",
      "[1 4 3]\n"
     ]
    }
   ],
   "source": [
    "a = np.array([1,2,3])\n",
    "b = a[1:]\n",
    "b[0] = 4\n",
    "print(b)\n",
    "print(a)"
   ]
  },
  {
   "cell_type": "markdown",
   "id": "ecb1d907",
   "metadata": {},
   "source": [
    "#### Copy"
   ]
  },
  {
   "cell_type": "code",
   "execution_count": 22,
   "id": "32add194",
   "metadata": {},
   "outputs": [
    {
     "name": "stdout",
     "output_type": "stream",
     "text": [
      "[1 2 3]\n",
      "[1 2 3]\n",
      "[1 2 3]\n",
      "[1 4 3]\n"
     ]
    }
   ],
   "source": [
    "a = np.array([1,2,3])\n",
    "b = a.copy()\n",
    "print(a)\n",
    "print(b)\n",
    "b[1] = 4\n",
    "print(a)\n",
    "print(b)"
   ]
  },
  {
   "cell_type": "markdown",
   "id": "9a102248",
   "metadata": {},
   "source": [
    "#### Sorting"
   ]
  },
  {
   "cell_type": "code",
   "execution_count": 23,
   "id": "054045ba",
   "metadata": {},
   "outputs": [],
   "source": [
    "arr = np.array([[3, 7], [9, 1]])"
   ]
  },
  {
   "cell_type": "code",
   "execution_count": 24,
   "id": "84e9d110",
   "metadata": {},
   "outputs": [
    {
     "name": "stdout",
     "output_type": "stream",
     "text": [
      "[[3 1]\n",
      " [9 7]]\n"
     ]
    }
   ],
   "source": [
    "print(np.sort(arr, axis=0))"
   ]
  },
  {
   "cell_type": "code",
   "execution_count": 25,
   "id": "83bacc2f",
   "metadata": {},
   "outputs": [],
   "source": [
    "arr = np.array([[4, 2, 6], [5, 6, 2], [1, 3, 5]])"
   ]
  },
  {
   "cell_type": "code",
   "execution_count": 26,
   "id": "7b16460e",
   "metadata": {},
   "outputs": [
    {
     "name": "stdout",
     "output_type": "stream",
     "text": [
      "[[1 2 2]\n",
      " [4 3 5]\n",
      " [5 6 6]]\n"
     ]
    }
   ],
   "source": [
    "print(np.sort(arr, axis=0))"
   ]
  },
  {
   "cell_type": "code",
   "execution_count": 27,
   "id": "7743f316",
   "metadata": {},
   "outputs": [
    {
     "name": "stdout",
     "output_type": "stream",
     "text": [
      "[[2 4 6]\n",
      " [2 5 6]\n",
      " [1 3 5]]\n"
     ]
    }
   ],
   "source": [
    "print(np.sort(arr, axis=1))"
   ]
  },
  {
   "cell_type": "code",
   "execution_count": 28,
   "id": "1f571519",
   "metadata": {},
   "outputs": [
    {
     "name": "stdout",
     "output_type": "stream",
     "text": [
      "[[2 4 6]\n",
      " [2 5 6]\n",
      " [1 3 5]]\n"
     ]
    }
   ],
   "source": [
    "print(np.sort(arr))"
   ]
  },
  {
   "cell_type": "code",
   "execution_count": 32,
   "id": "0ad62c90",
   "metadata": {},
   "outputs": [
    {
     "name": "stdout",
     "output_type": "stream",
     "text": [
      "[(b'raju', 21) (b'anil', 25) (b'ravi', 17) (b'amar', 27)]\n",
      "[(b'amar', 27) (b'anil', 25) (b'raju', 21) (b'ravi', 17)]\n"
     ]
    }
   ],
   "source": [
    "# Order parameter in sort function \n",
    "dt = np.dtype([('name', 'S10'),('age', int)]) \n",
    "a = np.array([(\"raju\",21),(\"anil\",25),(\"ravi\", 17), (\"amar\",27)], dtype = dt)\n",
    "\n",
    "\n",
    "print (a)\n",
    "print(np.sort(a, order = 'name'))"
   ]
  },
  {
   "cell_type": "markdown",
   "id": "40a71611",
   "metadata": {},
   "source": [
    "#### np.argsort()"
   ]
  },
  {
   "cell_type": "code",
   "execution_count": 33,
   "id": "9b067d9a",
   "metadata": {},
   "outputs": [],
   "source": [
    "x = np.array([3, 1, 2])"
   ]
  },
  {
   "cell_type": "code",
   "execution_count": 34,
   "id": "b8a21902",
   "metadata": {},
   "outputs": [
    {
     "data": {
      "text/plain": [
       "array([3, 1, 2])"
      ]
     },
     "execution_count": 34,
     "metadata": {},
     "output_type": "execute_result"
    }
   ],
   "source": [
    "x"
   ]
  },
  {
   "cell_type": "code",
   "execution_count": 35,
   "id": "e6d5f6c2",
   "metadata": {},
   "outputs": [],
   "source": [
    "y = np.argsort(x)"
   ]
  },
  {
   "cell_type": "code",
   "execution_count": 36,
   "id": "7a9397e2",
   "metadata": {},
   "outputs": [
    {
     "data": {
      "text/plain": [
       "array([1, 2, 0], dtype=int64)"
      ]
     },
     "execution_count": 36,
     "metadata": {},
     "output_type": "execute_result"
    }
   ],
   "source": [
    "y"
   ]
  },
  {
   "cell_type": "code",
   "execution_count": 37,
   "id": "f0619ccc",
   "metadata": {},
   "outputs": [
    {
     "data": {
      "text/plain": [
       "array([1, 2, 3])"
      ]
     },
     "execution_count": 37,
     "metadata": {},
     "output_type": "execute_result"
    }
   ],
   "source": [
    "x[y]"
   ]
  },
  {
   "cell_type": "markdown",
   "id": "935698a1",
   "metadata": {},
   "source": [
    "#### lexsort"
   ]
  },
  {
   "cell_type": "code",
   "execution_count": 38,
   "id": "97db2b71",
   "metadata": {},
   "outputs": [],
   "source": [
    "nm = ('raju', 'anil', 'ravi', 'amar')"
   ]
  },
  {
   "cell_type": "code",
   "execution_count": 39,
   "id": "6fac95fb",
   "metadata": {},
   "outputs": [],
   "source": [
    "dv = ('f.y', 's.y', 's.y', 'f.y')"
   ]
  },
  {
   "cell_type": "code",
   "execution_count": 40,
   "id": "a344c19b",
   "metadata": {},
   "outputs": [],
   "source": [
    "ind = np.lexsort((dv, nm))"
   ]
  },
  {
   "cell_type": "code",
   "execution_count": 41,
   "id": "86451c82",
   "metadata": {},
   "outputs": [
    {
     "data": {
      "text/plain": [
       "array([3, 1, 0, 2], dtype=int64)"
      ]
     },
     "execution_count": 41,
     "metadata": {},
     "output_type": "execute_result"
    }
   ],
   "source": [
    "ind"
   ]
  },
  {
   "cell_type": "code",
   "execution_count": 46,
   "id": "42cc942d",
   "metadata": {},
   "outputs": [
    {
     "name": "stdout",
     "output_type": "stream",
     "text": [
      "['amar from f.y', 'anil from s.y', 'raju from f.y', 'ravi from s.y']\n"
     ]
    }
   ],
   "source": [
    "print([nm[i] + \" from \" + dv[i] for i in ind])"
   ]
  },
  {
   "cell_type": "code",
   "execution_count": 47,
   "id": "98858239",
   "metadata": {},
   "outputs": [],
   "source": [
    "ind = np.lexsort((nm, dv))"
   ]
  },
  {
   "cell_type": "code",
   "execution_count": 48,
   "id": "52b96298",
   "metadata": {},
   "outputs": [
    {
     "data": {
      "text/plain": [
       "array([3, 0, 1, 2], dtype=int64)"
      ]
     },
     "execution_count": 48,
     "metadata": {},
     "output_type": "execute_result"
    }
   ],
   "source": [
    "ind"
   ]
  },
  {
   "cell_type": "code",
   "execution_count": null,
   "id": "c7138510",
   "metadata": {},
   "outputs": [],
   "source": []
  }
 ],
 "metadata": {
  "kernelspec": {
   "display_name": "Python 3 (ipykernel)",
   "language": "python",
   "name": "python3"
  },
  "language_info": {
   "codemirror_mode": {
    "name": "ipython",
    "version": 3
   },
   "file_extension": ".py",
   "mimetype": "text/x-python",
   "name": "python",
   "nbconvert_exporter": "python",
   "pygments_lexer": "ipython3",
   "version": "3.11.3"
  }
 },
 "nbformat": 4,
 "nbformat_minor": 5
}
